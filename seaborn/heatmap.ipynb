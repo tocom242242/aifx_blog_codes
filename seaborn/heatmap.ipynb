{
  "nbformat": 4,
  "nbformat_minor": 0,
  "metadata": {
    "colab": {
      "name": "sns_heatmap.ipynb",
      "provenance": [],
      "authorship_tag": "ABX9TyMQVlMKommjxPhTu2OTQl6l",
      "include_colab_link": true
    },
    "kernelspec": {
      "name": "python3",
      "display_name": "Python 3"
    }
  },
  "cells": [
    {
      "cell_type": "markdown",
      "metadata": {
        "id": "view-in-github",
        "colab_type": "text"
      },
      "source": [
        "<a href=\"https://colab.research.google.com/github/tocom242242/aifx_blog_codes/blob/master/seaborn/heatmap.ipynb\" target=\"_parent\"><img src=\"https://colab.research.google.com/assets/colab-badge.svg\" alt=\"Open In Colab\"/></a>"
      ]
    },
    {
      "cell_type": "code",
      "metadata": {
        "colab": {
          "base_uri": "https://localhost:8080/",
          "height": 35
        },
        "id": "fI-2cw6-peAI",
        "outputId": "ebeed6a3-ec77-4532-ec91-3a8de4065415"
      },
      "source": [
        "sns.__version__"
      ],
      "execution_count": 22,
      "outputs": [
        {
          "output_type": "execute_result",
          "data": {
            "application/vnd.google.colaboratory.intrinsic+json": {
              "type": "string"
            },
            "text/plain": [
              "'0.11.1'"
            ]
          },
          "metadata": {
            "tags": []
          },
          "execution_count": 22
        }
      ]
    },
    {
      "cell_type": "code",
      "metadata": {
        "id": "5e2EbTDHCL1-"
      },
      "source": [
        "import seaborn as sns\n",
        "sns.set(style='white', context='notebook', palette='deep')"
      ],
      "execution_count": 18,
      "outputs": []
    },
    {
      "cell_type": "code",
      "metadata": {
        "id": "vDqlW8UP-08E"
      },
      "source": [
        "from sklearn.datasets import load_boston\n",
        "dataset = load_boston()"
      ],
      "execution_count": 11,
      "outputs": []
    },
    {
      "cell_type": "code",
      "metadata": {
        "colab": {
          "base_uri": "https://localhost:8080/"
        },
        "id": "cAYhiPvNAOAJ",
        "outputId": "d517407f-0244-4349-9678-9092d8738170"
      },
      "source": [
        "dataset.keys()"
      ],
      "execution_count": 12,
      "outputs": [
        {
          "output_type": "execute_result",
          "data": {
            "text/plain": [
              "dict_keys(['data', 'target', 'feature_names', 'DESCR', 'filename'])"
            ]
          },
          "metadata": {
            "tags": []
          },
          "execution_count": 12
        }
      ]
    },
    {
      "cell_type": "code",
      "metadata": {
        "colab": {
          "base_uri": "https://localhost:8080/"
        },
        "id": "JVvVBRng_JpX",
        "outputId": "97ef47e6-04a4-42f8-dd86-dc9c032bb2c8"
      },
      "source": [
        "# 各特徴について\n",
        "# https://scikit-learn.org/stable/datasets/toy_dataset.html#boston-dataset\n",
        "dataset.feature_names"
      ],
      "execution_count": 14,
      "outputs": [
        {
          "output_type": "execute_result",
          "data": {
            "text/plain": [
              "array(['CRIM', 'ZN', 'INDUS', 'CHAS', 'NOX', 'RM', 'AGE', 'DIS', 'RAD',\n",
              "       'TAX', 'PTRATIO', 'B', 'LSTAT'], dtype='<U7')"
            ]
          },
          "metadata": {
            "tags": []
          },
          "execution_count": 14
        }
      ]
    },
    {
      "cell_type": "code",
      "metadata": {
        "id": "tO3WILvT_P2w"
      },
      "source": [
        "df = pd.DataFrame(dataset.data,columns=dataset.feature_names)"
      ],
      "execution_count": 16,
      "outputs": []
    },
    {
      "cell_type": "code",
      "metadata": {
        "colab": {
          "base_uri": "https://localhost:8080/"
        },
        "id": "39hNutbkuKLE",
        "outputId": "242e2070-5e87-4e42-a588-4ff478138d3c"
      },
      "source": [
        "columns = [\"CRIM\",\"ZN\",\"INDUS\",\"CHAS\"]\n",
        "corr = df[columns].corr()\n",
        "print(corr)"
      ],
      "execution_count": 25,
      "outputs": [
        {
          "output_type": "stream",
          "text": [
            "           CRIM        ZN     INDUS      CHAS\n",
            "CRIM   1.000000 -0.200469  0.406583 -0.055892\n",
            "ZN    -0.200469  1.000000 -0.533828 -0.042697\n",
            "INDUS  0.406583 -0.533828  1.000000  0.062938\n",
            "CHAS  -0.055892 -0.042697  0.062938  1.000000\n"
          ],
          "name": "stdout"
        }
      ]
    },
    {
      "cell_type": "code",
      "metadata": {
        "colab": {
          "base_uri": "https://localhost:8080/",
          "height": 272
        },
        "id": "_OOAUw91_Sd6",
        "outputId": "1051d32f-9f5e-4a81-f4ea-a55acb7e7260"
      },
      "source": [
        "g = sns.heatmap(corr, annot=True, fmt=\".2f\", cmap=\"coolwarm\")"
      ],
      "execution_count": 23,
      "outputs": [
        {
          "output_type": "display_data",
          "data": {
            "image/png": "[encoded data removed]",
            "text/plain": [
              "<Figure size 432x288 with 2 Axes>"
            ]
          },
          "metadata": {
            "tags": []
          }
        }
      ]
    }
  ]
}