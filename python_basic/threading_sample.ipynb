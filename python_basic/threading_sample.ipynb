{
  "nbformat": 4,
  "nbformat_minor": 0,
  "metadata": {
    "colab": {
      "name": "threading_sample.ipynb",
      "provenance": [],
      "authorship_tag": "ABX9TyObkSvEmEA2SUhAz6vR6HdC",
      "include_colab_link": true
    },
    "kernelspec": {
      "display_name": "Python 3",
      "name": "python3"
    }
  },
  "cells": [
    {
      "cell_type": "markdown",
      "metadata": {
        "id": "view-in-github",
        "colab_type": "text"
      },
      "source": [
        "<a href=\"https://colab.research.google.com/github/tocom242242/aifx_blog_codes/blob/master/python_basic/threading_sample.ipynb\" target=\"_parent\"><img src=\"https://colab.research.google.com/assets/colab-badge.svg\" alt=\"Open In Colab\"/></a>"
      ]
    },
    {
      "cell_type": "markdown",
      "metadata": {
        "id": "kDNI9hpYVyze"
      },
      "source": [
        "https://qiita.com/tchnkmr/items/b05f321fa315bbce4f77#threading%E3%81%AB%E3%81%A6%E3%82%B9%E3%83%AC%E3%83%83%E3%83%89%E3%82%92%E5%AE%9F%E8%A3%85%E3%81%99%E3%82%8B\n",
        "\n",
        "https://qiita.com/kaitolucifer/items/e4ace07bd8e112388c75#1-6-%E3%82%B9%E3%83%AC%E3%83%83%E3%83%89%E5%88%B6%E5%BE%A1"
      ]
    },
    {
      "cell_type": "code",
      "metadata": {
        "id": "fiX-22zzRnEe"
      },
      "source": [
        "import threading\n",
        "import time"
      ],
      "execution_count": 10,
      "outputs": []
    },
    {
      "cell_type": "code",
      "metadata": {
        "colab": {
          "base_uri": "https://localhost:8080/"
        },
        "id": "VPzEjgvkSJMi",
        "outputId": "bbd15b08-1a81-4158-a0fa-7d359c1be43d"
      },
      "source": [
        "# スレッド数\n",
        "print(threading.active_count())"
      ],
      "execution_count": 6,
      "outputs": [
        {
          "output_type": "stream",
          "text": [
            "4\n"
          ],
          "name": "stdout"
        }
      ]
    },
    {
      "cell_type": "code",
      "metadata": {
        "id": "l6V2lWQXo8zg"
      },
      "source": [
        "def task(id):\n",
        "    print(f\"start task : {id}\")\n",
        "    time.sleep(2)\n",
        "    print(f\"finish task : {id}\")\n"
      ],
      "execution_count": 8,
      "outputs": []
    },
    {
      "cell_type": "code",
      "metadata": {
        "colab": {
          "base_uri": "https://localhost:8080/"
        },
        "id": "L8D0tXfppJjk",
        "outputId": "eba1e3ff-fb38-4702-bc66-f02db6a6a419"
      },
      "source": [
        "thread1 = threading.Thread(target=task,args=(1,))\n",
        "thread2 = threading.Thread(target=task,args=(2,))\n",
        "\n",
        "thread1.start()\n",
        "thread2.start()\n",
        "\n",
        "thread1.join()\n",
        "thread2.join()"
      ],
      "execution_count": 15,
      "outputs": [
        {
          "output_type": "stream",
          "text": [
            "start task : 1\n",
            "start task : 2\n",
            "finish task : 1\n",
            "finish task : 2\n"
          ],
          "name": "stdout"
        }
      ]
    }
  ]
}