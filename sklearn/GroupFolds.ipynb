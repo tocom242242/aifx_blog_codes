{
  "nbformat": 4,
  "nbformat_minor": 0,
  "metadata": {
    "colab": {
      "name": "GroupFolds.ipynb",
      "provenance": [],
      "authorship_tag": "ABX9TyP/EIIm6ufeCLR9qZWqDCvp",
      "include_colab_link": true
    },
    "kernelspec": {
      "name": "python3",
      "display_name": "Python 3"
    }
  },
  "cells": [
    {
      "cell_type": "markdown",
      "metadata": {
        "id": "view-in-github",
        "colab_type": "text"
      },
      "source": [
        "<a href=\"https://colab.research.google.com/github/tocom242242/aifx_blog_codes/blob/master/sklearn/GroupFolds.ipynb\" target=\"_parent\"><img src=\"https://colab.research.google.com/assets/colab-badge.svg\" alt=\"Open In Colab\"/></a>"
      ]
    },
    {
      "cell_type": "markdown",
      "metadata": {
        "id": "osyitMJ0mn5E"
      },
      "source": [
        "## サンプル1"
      ]
    },
    {
      "cell_type": "code",
      "metadata": {
        "colab": {
          "base_uri": "https://localhost:8080/"
        },
        "id": "_X3tWEFPlMUW",
        "outputId": "6cc15910-98f8-4dd2-fdf6-909b20f6711e"
      },
      "source": [
        "import numpy as np\n",
        "from sklearn.model_selection import GroupKFold\n",
        "X = np.random.randint(0,high=10,size=(4,2))\n",
        "y = np.arange(4)\n",
        "groups = np.array([\"A\",\"A\",\"B\",\"B\"])\n",
        "print(f\"X:{list(X)}\")\n",
        "print(f\"y:{y}\")\n",
        "print(f\"g:{groups}\")"
      ],
      "execution_count": 8,
      "outputs": [
        {
          "output_type": "stream",
          "text": [
            "X:[array([8, 6]), array([7, 2]), array([5, 5]), array([1, 4])]\n",
            "y:[0 1 2 3]\n",
            "g:['A' 'A' 'B' 'B']\n"
          ],
          "name": "stdout"
        }
      ]
    },
    {
      "cell_type": "code",
      "metadata": {
        "colab": {
          "base_uri": "https://localhost:8080/"
        },
        "id": "FzgB2xoRlU6i",
        "outputId": "cc3fa5f3-be0b-4222-c0c5-f50e1dfef154"
      },
      "source": [
        "# 4分割\n",
        "group_kfold = GroupKFold(n_splits=2)\n",
        "for train_index, test_index in group_kfold.split(X,y,groups):\n",
        "    print(\"--------------------\")\n",
        "    print(\"TRAIN_INDEX:\", train_index, \"TEST_INDEX:\", test_index)\n",
        "    X_train, X_test = X[train_index], X[test_index]\n",
        "    y_train, y_test = y[train_index], y[test_index]\n",
        "    g_train, g_test = groups[train_index], groups[test_index]\n",
        "    print(f\"y_train:{y_train} y_test:{y_test}\")\n",
        "    print(f\"g_train:{g_train} g_test:{g_test}\")"
      ],
      "execution_count": 13,
      "outputs": [
        {
          "output_type": "stream",
          "text": [
            "--------------------\n",
            "TRAIN_INDEX: [0 1] TEST_INDEX: [2 3]\n",
            "y_train:[0 1] y_test:[2 3]\n",
            "g_train:['A' 'A'] g_test:['B' 'B']\n",
            "--------------------\n",
            "TRAIN_INDEX: [2 3] TEST_INDEX: [0 1]\n",
            "y_train:[2 3] y_test:[0 1]\n",
            "g_train:['B' 'B'] g_test:['A' 'A']\n"
          ],
          "name": "stdout"
        }
      ]
    },
    {
      "cell_type": "markdown",
      "metadata": {
        "id": "5eiWMQhPmlMM"
      },
      "source": [
        "## サンプル2"
      ]
    },
    {
      "cell_type": "code",
      "metadata": {
        "colab": {
          "base_uri": "https://localhost:8080/"
        },
        "id": "UtSmduUkLd3j",
        "outputId": "f19cfd68-22f6-41e4-b587-cc9e593ba64d"
      },
      "source": [
        "import numpy as np\n",
        "from sklearn.model_selection import GroupKFold\n",
        "X = np.random.randint(0,high=10,size=(8,2))\n",
        "y = np.arange(8)\n",
        "groups = np.array([0,0,1,1,2,2,3,3])\n",
        "print(f\"X:{list(X)}\")\n",
        "print(f\"y:{y}\")\n",
        "print(f\"g:{groups}\")"
      ],
      "execution_count": 1,
      "outputs": [
        {
          "output_type": "stream",
          "text": [
            "X:[array([1, 8]), array([5, 2]), array([4, 2]), array([6, 6]), array([3, 2]), array([4, 8]), array([8, 4]), array([2, 0])]\n",
            "y:[0 1 2 3 4 5 6 7]\n",
            "g:[0 0 1 1 2 2 3 3]\n"
          ],
          "name": "stdout"
        }
      ]
    },
    {
      "cell_type": "code",
      "metadata": {
        "colab": {
          "base_uri": "https://localhost:8080/"
        },
        "id": "3IBexMwEdIko",
        "outputId": "6812a4ad-7e10-4fce-b7ed-a685a343ba17"
      },
      "source": [
        "group_kfold = GroupKFold(n_splits=2)\n",
        "group_kfold.get_n_splits(X, y, groups)"
      ],
      "execution_count": 2,
      "outputs": [
        {
          "output_type": "execute_result",
          "data": {
            "text/plain": [
              "2"
            ]
          },
          "metadata": {
            "tags": []
          },
          "execution_count": 2
        }
      ]
    },
    {
      "cell_type": "code",
      "metadata": {
        "colab": {
          "base_uri": "https://localhost:8080/"
        },
        "id": "hfzn8ywpMrbu",
        "outputId": "3d4c7238-aa25-490a-c361-226f9711aa8c"
      },
      "source": [
        "# 2分割\n",
        "for train_index, test_index in group_kfold.split(X,y,groups):\n",
        "    print(\"--------------------\")\n",
        "    print(\"TRAIN_INDEX:\", train_index, \"TEST_INDEX:\", test_index)\n",
        "    X_train, X_test = X[train_index], X[test_index]\n",
        "    y_train, y_test = y[train_index], y[test_index]\n",
        "    print(f\"X_train:{list(X_train)}\")\n",
        "    print(f\"y_train:{y_train}\")"
      ],
      "execution_count": 3,
      "outputs": [
        {
          "output_type": "stream",
          "text": [
            "--------------------\n",
            "TRAIN_INDEX: [0 1 4 5] TEST_INDEX: [2 3 6 7]\n",
            "X_train:[array([1, 8]), array([5, 2]), array([3, 2]), array([4, 8])]\n",
            "y_train:[0 1 4 5]\n",
            "--------------------\n",
            "TRAIN_INDEX: [2 3 6 7] TEST_INDEX: [0 1 4 5]\n",
            "X_train:[array([4, 2]), array([6, 6]), array([8, 4]), array([2, 0])]\n",
            "y_train:[2 3 6 7]\n"
          ],
          "name": "stdout"
        }
      ]
    },
    {
      "cell_type": "code",
      "metadata": {
        "colab": {
          "base_uri": "https://localhost:8080/"
        },
        "id": "c0FP-wPCM38Q",
        "outputId": "01b38756-cab8-4f62-8e5a-f892a0eb67bb"
      },
      "source": [
        "# 4分割\n",
        "group_kfold = GroupKFold(n_splits=4)\n",
        "for train_index, test_index in group_kfold.split(X,y,groups):\n",
        "    print(\"--------------------\")\n",
        "    print(\"TRAIN_INDEX:\", train_index, \"TEST_INDEX:\", test_index)\n",
        "    X_train, X_test = X[train_index], X[test_index]\n",
        "    y_train, y_test = y[train_index], y[test_index]\n",
        "    print(f\"X_train:{list(X_train)}\")\n",
        "    print(f\"y_train:{y_train}\")"
      ],
      "execution_count": 4,
      "outputs": [
        {
          "output_type": "stream",
          "text": [
            "--------------------\n",
            "TRAIN_INDEX: [0 1 2 3 4 5] TEST_INDEX: [6 7]\n",
            "X_train:[array([1, 8]), array([5, 2]), array([4, 2]), array([6, 6]), array([3, 2]), array([4, 8])]\n",
            "y_train:[0 1 2 3 4 5]\n",
            "--------------------\n",
            "TRAIN_INDEX: [0 1 2 3 6 7] TEST_INDEX: [4 5]\n",
            "X_train:[array([1, 8]), array([5, 2]), array([4, 2]), array([6, 6]), array([8, 4]), array([2, 0])]\n",
            "y_train:[0 1 2 3 6 7]\n",
            "--------------------\n",
            "TRAIN_INDEX: [0 1 4 5 6 7] TEST_INDEX: [2 3]\n",
            "X_train:[array([1, 8]), array([5, 2]), array([3, 2]), array([4, 8]), array([8, 4]), array([2, 0])]\n",
            "y_train:[0 1 4 5 6 7]\n",
            "--------------------\n",
            "TRAIN_INDEX: [2 3 4 5 6 7] TEST_INDEX: [0 1]\n",
            "X_train:[array([4, 2]), array([6, 6]), array([3, 2]), array([4, 8]), array([8, 4]), array([2, 0])]\n",
            "y_train:[2 3 4 5 6 7]\n"
          ],
          "name": "stdout"
        }
      ]
    },
    {
      "cell_type": "code",
      "metadata": {
        "colab": {
          "base_uri": "https://localhost:8080/",
          "height": 371
        },
        "id": "ezCpNY6TaOAT",
        "outputId": "2a120f9b-6fec-4d16-f36f-387dfeddec75"
      },
      "source": [
        "# 8分割(グループ数より分割数が多いからエラー)\n",
        "group_kfold = GroupKFold(n_splits=8)\n",
        "for train_index, test_index in group_kfold.split(X,y,groups):\n",
        "    print(\"--------------------\")\n",
        "    print(\"TRAIN_INDEX:\", train_index, \"TEST_INDEX:\", test_index)\n",
        "    X_train, X_test = X[train_index], X[test_index]\n",
        "    y_train, y_test = y[train_index], y[test_index]\n",
        "    print(f\"X_train:{list(X_train)}\")\n",
        "    print(f\"y_train:{y_train}\")"
      ],
      "execution_count": 5,
      "outputs": [
        {
          "output_type": "error",
          "ename": "ValueError",
          "evalue": "ignored",
          "traceback": [
            "\u001b[0;31m---------------------------------------------------------------------------\u001b[0m",
            "\u001b[0;31mValueError\u001b[0m                                Traceback (most recent call last)",
            "\u001b[0;32m<ipython-input-5-28285ce7a325>\u001b[0m in \u001b[0;36m<module>\u001b[0;34m()\u001b[0m\n\u001b[1;32m      1\u001b[0m \u001b[0;31m# 8分割\u001b[0m\u001b[0;34m\u001b[0m\u001b[0;34m\u001b[0m\u001b[0;34m\u001b[0m\u001b[0m\n\u001b[1;32m      2\u001b[0m \u001b[0mgroup_kfold\u001b[0m \u001b[0;34m=\u001b[0m \u001b[0mGroupKFold\u001b[0m\u001b[0;34m(\u001b[0m\u001b[0mn_splits\u001b[0m\u001b[0;34m=\u001b[0m\u001b[0;36m8\u001b[0m\u001b[0;34m)\u001b[0m\u001b[0;34m\u001b[0m\u001b[0;34m\u001b[0m\u001b[0m\n\u001b[0;32m----> 3\u001b[0;31m \u001b[0;32mfor\u001b[0m \u001b[0mtrain_index\u001b[0m\u001b[0;34m,\u001b[0m \u001b[0mtest_index\u001b[0m \u001b[0;32min\u001b[0m \u001b[0mgroup_kfold\u001b[0m\u001b[0;34m.\u001b[0m\u001b[0msplit\u001b[0m\u001b[0;34m(\u001b[0m\u001b[0mX\u001b[0m\u001b[0;34m,\u001b[0m\u001b[0my\u001b[0m\u001b[0;34m,\u001b[0m\u001b[0mgroups\u001b[0m\u001b[0;34m)\u001b[0m\u001b[0;34m:\u001b[0m\u001b[0;34m\u001b[0m\u001b[0;34m\u001b[0m\u001b[0m\n\u001b[0m\u001b[1;32m      4\u001b[0m     \u001b[0mprint\u001b[0m\u001b[0;34m(\u001b[0m\u001b[0;34m\"--------------------\"\u001b[0m\u001b[0;34m)\u001b[0m\u001b[0;34m\u001b[0m\u001b[0;34m\u001b[0m\u001b[0m\n\u001b[1;32m      5\u001b[0m     \u001b[0mprint\u001b[0m\u001b[0;34m(\u001b[0m\u001b[0;34m\"TRAIN_INDEX:\"\u001b[0m\u001b[0;34m,\u001b[0m \u001b[0mtrain_index\u001b[0m\u001b[0;34m,\u001b[0m \u001b[0;34m\"TEST_INDEX:\"\u001b[0m\u001b[0;34m,\u001b[0m \u001b[0mtest_index\u001b[0m\u001b[0;34m)\u001b[0m\u001b[0;34m\u001b[0m\u001b[0;34m\u001b[0m\u001b[0m\n",
            "\u001b[0;32m/usr/local/lib/python3.7/dist-packages/sklearn/model_selection/_split.py\u001b[0m in \u001b[0;36msplit\u001b[0;34m(self, X, y, groups)\u001b[0m\n\u001b[1;32m    333\u001b[0m                 .format(self.n_splits, n_samples))\n\u001b[1;32m    334\u001b[0m \u001b[0;34m\u001b[0m\u001b[0m\n\u001b[0;32m--> 335\u001b[0;31m         \u001b[0;32mfor\u001b[0m \u001b[0mtrain\u001b[0m\u001b[0;34m,\u001b[0m \u001b[0mtest\u001b[0m \u001b[0;32min\u001b[0m \u001b[0msuper\u001b[0m\u001b[0;34m(\u001b[0m\u001b[0;34m)\u001b[0m\u001b[0;34m.\u001b[0m\u001b[0msplit\u001b[0m\u001b[0;34m(\u001b[0m\u001b[0mX\u001b[0m\u001b[0;34m,\u001b[0m \u001b[0my\u001b[0m\u001b[0;34m,\u001b[0m \u001b[0mgroups\u001b[0m\u001b[0;34m)\u001b[0m\u001b[0;34m:\u001b[0m\u001b[0;34m\u001b[0m\u001b[0;34m\u001b[0m\u001b[0m\n\u001b[0m\u001b[1;32m    336\u001b[0m             \u001b[0;32myield\u001b[0m \u001b[0mtrain\u001b[0m\u001b[0;34m,\u001b[0m \u001b[0mtest\u001b[0m\u001b[0;34m\u001b[0m\u001b[0;34m\u001b[0m\u001b[0m\n\u001b[1;32m    337\u001b[0m \u001b[0;34m\u001b[0m\u001b[0m\n",
            "\u001b[0;32m/usr/local/lib/python3.7/dist-packages/sklearn/model_selection/_split.py\u001b[0m in \u001b[0;36msplit\u001b[0;34m(self, X, y, groups)\u001b[0m\n\u001b[1;32m     78\u001b[0m         \u001b[0mX\u001b[0m\u001b[0;34m,\u001b[0m \u001b[0my\u001b[0m\u001b[0;34m,\u001b[0m \u001b[0mgroups\u001b[0m \u001b[0;34m=\u001b[0m \u001b[0mindexable\u001b[0m\u001b[0;34m(\u001b[0m\u001b[0mX\u001b[0m\u001b[0;34m,\u001b[0m \u001b[0my\u001b[0m\u001b[0;34m,\u001b[0m \u001b[0mgroups\u001b[0m\u001b[0;34m)\u001b[0m\u001b[0;34m\u001b[0m\u001b[0;34m\u001b[0m\u001b[0m\n\u001b[1;32m     79\u001b[0m         \u001b[0mindices\u001b[0m \u001b[0;34m=\u001b[0m \u001b[0mnp\u001b[0m\u001b[0;34m.\u001b[0m\u001b[0marange\u001b[0m\u001b[0;34m(\u001b[0m\u001b[0m_num_samples\u001b[0m\u001b[0;34m(\u001b[0m\u001b[0mX\u001b[0m\u001b[0;34m)\u001b[0m\u001b[0;34m)\u001b[0m\u001b[0;34m\u001b[0m\u001b[0;34m\u001b[0m\u001b[0m\n\u001b[0;32m---> 80\u001b[0;31m         \u001b[0;32mfor\u001b[0m \u001b[0mtest_index\u001b[0m \u001b[0;32min\u001b[0m \u001b[0mself\u001b[0m\u001b[0;34m.\u001b[0m\u001b[0m_iter_test_masks\u001b[0m\u001b[0;34m(\u001b[0m\u001b[0mX\u001b[0m\u001b[0;34m,\u001b[0m \u001b[0my\u001b[0m\u001b[0;34m,\u001b[0m \u001b[0mgroups\u001b[0m\u001b[0;34m)\u001b[0m\u001b[0;34m:\u001b[0m\u001b[0;34m\u001b[0m\u001b[0;34m\u001b[0m\u001b[0m\n\u001b[0m\u001b[1;32m     81\u001b[0m             \u001b[0mtrain_index\u001b[0m \u001b[0;34m=\u001b[0m \u001b[0mindices\u001b[0m\u001b[0;34m[\u001b[0m\u001b[0mnp\u001b[0m\u001b[0;34m.\u001b[0m\u001b[0mlogical_not\u001b[0m\u001b[0;34m(\u001b[0m\u001b[0mtest_index\u001b[0m\u001b[0;34m)\u001b[0m\u001b[0;34m]\u001b[0m\u001b[0;34m\u001b[0m\u001b[0;34m\u001b[0m\u001b[0m\n\u001b[1;32m     82\u001b[0m             \u001b[0mtest_index\u001b[0m \u001b[0;34m=\u001b[0m \u001b[0mindices\u001b[0m\u001b[0;34m[\u001b[0m\u001b[0mtest_index\u001b[0m\u001b[0;34m]\u001b[0m\u001b[0;34m\u001b[0m\u001b[0;34m\u001b[0m\u001b[0m\n",
            "\u001b[0;32m/usr/local/lib/python3.7/dist-packages/sklearn/model_selection/_split.py\u001b[0m in \u001b[0;36m_iter_test_masks\u001b[0;34m(self, X, y, groups)\u001b[0m\n\u001b[1;32m     90\u001b[0m         \u001b[0mBy\u001b[0m \u001b[0mdefault\u001b[0m\u001b[0;34m,\u001b[0m \u001b[0mdelegates\u001b[0m \u001b[0mto\u001b[0m \u001b[0m_iter_test_indices\u001b[0m\u001b[0;34m(\u001b[0m\u001b[0mX\u001b[0m\u001b[0;34m,\u001b[0m \u001b[0my\u001b[0m\u001b[0;34m,\u001b[0m \u001b[0mgroups\u001b[0m\u001b[0;34m)\u001b[0m\u001b[0;34m\u001b[0m\u001b[0;34m\u001b[0m\u001b[0m\n\u001b[1;32m     91\u001b[0m         \"\"\"\n\u001b[0;32m---> 92\u001b[0;31m         \u001b[0;32mfor\u001b[0m \u001b[0mtest_index\u001b[0m \u001b[0;32min\u001b[0m \u001b[0mself\u001b[0m\u001b[0;34m.\u001b[0m\u001b[0m_iter_test_indices\u001b[0m\u001b[0;34m(\u001b[0m\u001b[0mX\u001b[0m\u001b[0;34m,\u001b[0m \u001b[0my\u001b[0m\u001b[0;34m,\u001b[0m \u001b[0mgroups\u001b[0m\u001b[0;34m)\u001b[0m\u001b[0;34m:\u001b[0m\u001b[0;34m\u001b[0m\u001b[0;34m\u001b[0m\u001b[0m\n\u001b[0m\u001b[1;32m     93\u001b[0m             \u001b[0mtest_mask\u001b[0m \u001b[0;34m=\u001b[0m \u001b[0mnp\u001b[0m\u001b[0;34m.\u001b[0m\u001b[0mzeros\u001b[0m\u001b[0;34m(\u001b[0m\u001b[0m_num_samples\u001b[0m\u001b[0;34m(\u001b[0m\u001b[0mX\u001b[0m\u001b[0;34m)\u001b[0m\u001b[0;34m,\u001b[0m \u001b[0mdtype\u001b[0m\u001b[0;34m=\u001b[0m\u001b[0mnp\u001b[0m\u001b[0;34m.\u001b[0m\u001b[0mbool\u001b[0m\u001b[0;34m)\u001b[0m\u001b[0;34m\u001b[0m\u001b[0;34m\u001b[0m\u001b[0m\n\u001b[1;32m     94\u001b[0m             \u001b[0mtest_mask\u001b[0m\u001b[0;34m[\u001b[0m\u001b[0mtest_index\u001b[0m\u001b[0;34m]\u001b[0m \u001b[0;34m=\u001b[0m \u001b[0;32mTrue\u001b[0m\u001b[0;34m\u001b[0m\u001b[0;34m\u001b[0m\u001b[0m\n",
            "\u001b[0;32m/usr/local/lib/python3.7/dist-packages/sklearn/model_selection/_split.py\u001b[0m in \u001b[0;36m_iter_test_indices\u001b[0;34m(self, X, y, groups)\u001b[0m\n\u001b[1;32m    511\u001b[0m             raise ValueError(\"Cannot have number of splits n_splits=%d greater\"\n\u001b[1;32m    512\u001b[0m                              \u001b[0;34m\" than the number of groups: %d.\"\u001b[0m\u001b[0;34m\u001b[0m\u001b[0;34m\u001b[0m\u001b[0m\n\u001b[0;32m--> 513\u001b[0;31m                              % (self.n_splits, n_groups))\n\u001b[0m\u001b[1;32m    514\u001b[0m \u001b[0;34m\u001b[0m\u001b[0m\n\u001b[1;32m    515\u001b[0m         \u001b[0;31m# Weight groups by their number of occurrences\u001b[0m\u001b[0;34m\u001b[0m\u001b[0;34m\u001b[0m\u001b[0;34m\u001b[0m\u001b[0m\n",
            "\u001b[0;31mValueError\u001b[0m: Cannot have number of splits n_splits=8 greater than the number of groups: 4."
          ]
        }
      ]
    }
  ]
}