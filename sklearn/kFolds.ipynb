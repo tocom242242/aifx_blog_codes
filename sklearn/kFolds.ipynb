{
  "nbformat": 4,
  "nbformat_minor": 0,
  "metadata": {
    "colab": {
      "name": "kFolds.ipynb",
      "provenance": [],
      "authorship_tag": "ABX9TyNFhomBCgZSUXSEB8KgQJd1",
      "include_colab_link": true
    },
    "kernelspec": {
      "name": "python3",
      "display_name": "Python 3"
    }
  },
  "cells": [
    {
      "cell_type": "markdown",
      "metadata": {
        "id": "view-in-github",
        "colab_type": "text"
      },
      "source": [
        "<a href=\"https://colab.research.google.com/github/tocom242242/aifx_blog_codes/blob/master/sklearn/kFolds.ipynb\" target=\"_parent\"><img src=\"https://colab.research.google.com/assets/colab-badge.svg\" alt=\"Open In Colab\"/></a>"
      ]
    },
    {
      "cell_type": "code",
      "metadata": {
        "colab": {
          "base_uri": "https://localhost:8080/"
        },
        "id": "UtSmduUkLd3j",
        "outputId": "cd9330df-0dc4-4376-87d4-824af37153e5"
      },
      "source": [
        "import numpy as np\n",
        "from sklearn.model_selection import KFold\n",
        "X = np.random.randint(0,high=10,size=(6,2))\n",
        "y = np.arange(6)\n",
        "print(f\"X:{list(X)}\")\n",
        "print(f\"y:{y}\")"
      ],
      "execution_count": 1,
      "outputs": [
        {
          "output_type": "stream",
          "text": [
            "X:[array([7, 1]), array([3, 5]), array([4, 2]), array([7, 7]), array([5, 4]), array([2, 7])]\n",
            "y:[0 1 2 3 4 5]\n"
          ],
          "name": "stdout"
        }
      ]
    },
    {
      "cell_type": "code",
      "metadata": {
        "colab": {
          "base_uri": "https://localhost:8080/"
        },
        "id": "hfzn8ywpMrbu",
        "outputId": "3db1e827-18a6-4f19-9e89-c2909e19d1f5"
      },
      "source": [
        "# 2分割\n",
        "kf = KFold(n_splits=2)\n",
        "for train_index, test_index in kf.split(X):\n",
        "    print(\"--------------------\")\n",
        "    print(\"TRAIN_INDEX:\", train_index, \"TEST_INDEX:\", test_index)\n",
        "    X_train, X_test = X[train_index], X[test_index]\n",
        "    y_train, y_test = y[train_index], y[test_index]\n",
        "    print(f\"X_train:{list(X_train)}\")\n",
        "    print(f\"y_train:{y_train}\")"
      ],
      "execution_count": 2,
      "outputs": [
        {
          "output_type": "stream",
          "text": [
            "--------------------\n",
            "TRAIN_INDEX: [3 4 5] TEST_INDEX: [0 1 2]\n",
            "X_train:[array([7, 7]), array([5, 4]), array([2, 7])]\n",
            "y_train:[3 4 5]\n",
            "--------------------\n",
            "TRAIN_INDEX: [0 1 2] TEST_INDEX: [3 4 5]\n",
            "X_train:[array([7, 1]), array([3, 5]), array([4, 2])]\n",
            "y_train:[0 1 2]\n"
          ],
          "name": "stdout"
        }
      ]
    },
    {
      "cell_type": "code",
      "metadata": {
        "colab": {
          "base_uri": "https://localhost:8080/"
        },
        "id": "c0FP-wPCM38Q",
        "outputId": "a5a2471d-1332-4ca4-cbc9-e5ebfc338c7a"
      },
      "source": [
        "# 3分割\n",
        "kf = KFold(n_splits=3)\n",
        "for train_index, test_index in kf.split(X):\n",
        "    print(\"--------------------\")\n",
        "    print(\"TRAIN_INDEX:\", train_index, \"TEST_INDEX:\", test_index)\n",
        "    X_train, X_test = X[train_index], X[test_index]\n",
        "    y_train, y_test = y[train_index], y[test_index]\n",
        "    print(f\"X_train:{list(X_train)}\")\n",
        "    print(f\"y_train:{y_train}\")"
      ],
      "execution_count": 3,
      "outputs": [
        {
          "output_type": "stream",
          "text": [
            "--------------------\n",
            "TRAIN_INDEX: [2 3 4 5] TEST_INDEX: [0 1]\n",
            "X_train:[array([4, 2]), array([7, 7]), array([5, 4]), array([2, 7])]\n",
            "y_train:[2 3 4 5]\n",
            "--------------------\n",
            "TRAIN_INDEX: [0 1 4 5] TEST_INDEX: [2 3]\n",
            "X_train:[array([7, 1]), array([3, 5]), array([5, 4]), array([2, 7])]\n",
            "y_train:[0 1 4 5]\n",
            "--------------------\n",
            "TRAIN_INDEX: [0 1 2 3] TEST_INDEX: [4 5]\n",
            "X_train:[array([7, 1]), array([3, 5]), array([4, 2]), array([7, 7])]\n",
            "y_train:[0 1 2 3]\n"
          ],
          "name": "stdout"
        }
      ]
    },
    {
      "cell_type": "code",
      "metadata": {
        "colab": {
          "base_uri": "https://localhost:8080/"
        },
        "id": "ezCpNY6TaOAT",
        "outputId": "18983923-ce22-4ce9-f782-21adfd9fe409"
      },
      "source": [
        "# 6分割\n",
        "kf = KFold(n_splits=6)\n",
        "for train_index, test_index in kf.split(X):\n",
        "    print(\"--------------------\")\n",
        "    print(\"TRAIN_INDEX:\", train_index, \"TEST_INDEX:\", test_index)\n",
        "    X_train, X_test = X[train_index], X[test_index]\n",
        "    y_train, y_test = y[train_index], y[test_index]\n",
        "    print(f\"X_train:{list(X_train)}\")\n",
        "    print(f\"y_train:{y_train}\")"
      ],
      "execution_count": 4,
      "outputs": [
        {
          "output_type": "stream",
          "text": [
            "--------------------\n",
            "TRAIN_INDEX: [1 2 3 4 5] TEST_INDEX: [0]\n",
            "X_train:[array([3, 5]), array([4, 2]), array([7, 7]), array([5, 4]), array([2, 7])]\n",
            "y_train:[1 2 3 4 5]\n",
            "--------------------\n",
            "TRAIN_INDEX: [0 2 3 4 5] TEST_INDEX: [1]\n",
            "X_train:[array([7, 1]), array([4, 2]), array([7, 7]), array([5, 4]), array([2, 7])]\n",
            "y_train:[0 2 3 4 5]\n",
            "--------------------\n",
            "TRAIN_INDEX: [0 1 3 4 5] TEST_INDEX: [2]\n",
            "X_train:[array([7, 1]), array([3, 5]), array([7, 7]), array([5, 4]), array([2, 7])]\n",
            "y_train:[0 1 3 4 5]\n",
            "--------------------\n",
            "TRAIN_INDEX: [0 1 2 4 5] TEST_INDEX: [3]\n",
            "X_train:[array([7, 1]), array([3, 5]), array([4, 2]), array([5, 4]), array([2, 7])]\n",
            "y_train:[0 1 2 4 5]\n",
            "--------------------\n",
            "TRAIN_INDEX: [0 1 2 3 5] TEST_INDEX: [4]\n",
            "X_train:[array([7, 1]), array([3, 5]), array([4, 2]), array([7, 7]), array([2, 7])]\n",
            "y_train:[0 1 2 3 5]\n",
            "--------------------\n",
            "TRAIN_INDEX: [0 1 2 3 4] TEST_INDEX: [5]\n",
            "X_train:[array([7, 1]), array([3, 5]), array([4, 2]), array([7, 7]), array([5, 4])]\n",
            "y_train:[0 1 2 3 4]\n"
          ],
          "name": "stdout"
        }
      ]
    }
  ]
}