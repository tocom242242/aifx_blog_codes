{
  "nbformat": 4,
  "nbformat_minor": 0,
  "metadata": {
    "colab": {
      "name": "exclusiveOR.ipynb",
      "provenance": [],
      "authorship_tag": "ABX9TyN2Kd+DC2ZsCKlCu2rx0Auj",
      "include_colab_link": true
    },
    "kernelspec": {
      "name": "python3",
      "display_name": "Python 3"
    }
  },
  "cells": [
    {
      "cell_type": "markdown",
      "metadata": {
        "id": "view-in-github",
        "colab_type": "text"
      },
      "source": [
        "<a href=\"https://colab.research.google.com/github/tocom242242/aifx_blog_codes/blob/master/exclusiveOR.ipynb\" target=\"_parent\"><img src=\"https://colab.research.google.com/assets/colab-badge.svg\" alt=\"Open In Colab\"/></a>"
      ]
    },
    {
      "cell_type": "code",
      "metadata": {
        "id": "cH3NxMjZ4q46"
      },
      "source": [
        "import tensorflow as tf\n",
        "from tensorflow.keras.models import Sequential\n",
        "from tensorflow.keras.layers import Dense, Activation\n",
        "import numpy as np\n",
        "import matplotlib.pyplot as plt\n"
      ],
      "execution_count": 1,
      "outputs": []
    },
    {
      "cell_type": "code",
      "metadata": {
        "id": "650m_ft94tN0"
      },
      "source": [
        "model = Sequential()\n",
        "model.add(Dense(3, input_dim=2))\n",
        "model.add(Activation(\"relu\"))\n",
        "model.add(Dense(5))\n",
        "model.add(Activation(\"relu\"))\n",
        "model.add(Dense(2))\n",
        "model.add(Activation(\"sigmoid\"))\n",
        "\n",
        "model.compile(loss=\"binary_crossentropy\",\n",
        "              optimizer=\"sgd\")"
      ],
      "execution_count": 2,
      "outputs": []
    },
    {
      "cell_type": "code",
      "metadata": {
        "id": "TbG_6B8T4vCx"
      },
      "source": [
        "x_list = np.array([[0.0, 0.0], [0.0, 1.0], [1.0, 0.0], [1.0, 1.0]])\n",
        "y_list = np.array([0, 1, 1, 0])\n",
        "one_hot_y_list = tf.one_hot(y_list, depth=2)"
      ],
      "execution_count": 3,
      "outputs": []
    },
    {
      "cell_type": "code",
      "metadata": {
        "id": "3Ppx11iZ4xH4"
      },
      "source": [
        "\n",
        "history = model.fit(x_list, one_hot_y_list, epochs=3000,verbose=0)\n"
      ],
      "execution_count": 4,
      "outputs": []
    },
    {
      "cell_type": "code",
      "metadata": {
        "colab": {
          "base_uri": "https://localhost:8080/",
          "height": 283
        },
        "id": "OxE6O-De6Pv7",
        "outputId": "8f9e0d89-d5cc-4412-e165-1e03b51d17d9"
      },
      "source": [
        "plt.plot(np.arange(len(history.history[\"loss\"])),history.history[\"loss\"])"
      ],
      "execution_count": 5,
      "outputs": [
        {
          "output_type": "execute_result",
          "data": {
            "text/plain": [
              "[<matplotlib.lines.Line2D at 0x7f4602b7b0b8>]"
            ]
          },
          "metadata": {
            "tags": []
          },
          "execution_count": 5
        },
        {
          "output_type": "display_data",
          "data": {
            "image/png": "[encoded data removed]",
            "text/plain": [
              "<Figure size 432x288 with 1 Axes>"
            ]
          },
          "metadata": {
            "tags": [],
            "needs_background": "light"
          }
        }
      ]
    },
    {
      "cell_type": "code",
      "metadata": {
        "colab": {
          "base_uri": "https://localhost:8080/"
        },
        "id": "C1_5PtLG4y4Z",
        "outputId": "f7fd200c-c4fb-4819-a9f1-5a0020a16dcc"
      },
      "source": [
        "print(\"---------------------------------------------\")\n",
        "print(\"結果\")\n",
        "print(\"---------------------------------------------\")\n",
        "for x,y in zip(x_list,y_list):\n",
        "    x = tf.expand_dims(x, 0)\n",
        "    print(f\"x:{x}, y:{y}, pred:{tf.argmax(model.predict(x)[0])}\")\n"
      ],
      "execution_count": 6,
      "outputs": [
        {
          "output_type": "stream",
          "text": [
            "---------------------------------------------\n",
            "結果\n",
            "---------------------------------------------\n",
            "x:[[0. 0.]], y:0, pred:1\n",
            "x:[[0. 1.]], y:1, pred:1\n",
            "x:[[1. 0.]], y:1, pred:1\n",
            "x:[[1. 1.]], y:0, pred:0\n"
          ],
          "name": "stdout"
        }
      ]
    }
  ]
}