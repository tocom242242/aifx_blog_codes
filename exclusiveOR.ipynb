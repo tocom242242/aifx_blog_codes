{
  "nbformat": 4,
  "nbformat_minor": 0,
  "metadata": {
    "colab": {
      "name": "exclusiveOR.ipynb",
      "provenance": [],
      "authorship_tag": "ABX9TyOdcjrt7bcSzQUuf/psuSXV",
      "include_colab_link": true
    },
    "kernelspec": {
      "name": "python3",
      "display_name": "Python 3"
    }
  },
  "cells": [
    {
      "cell_type": "markdown",
      "metadata": {
        "id": "view-in-github",
        "colab_type": "text"
      },
      "source": [
        "<a href=\"https://colab.research.google.com/github/tocom242242/aifx_blog_codes/blob/master/exclusiveOR.ipynb\" target=\"_parent\"><img src=\"https://colab.research.google.com/assets/colab-badge.svg\" alt=\"Open In Colab\"/></a>"
      ]
    },
    {
      "cell_type": "markdown",
      "metadata": {
        "id": "AId7GVj2L5TA"
      },
      "source": [
        "ブログ: https://www.tcom242242.net/entry/python-basic/keras/simple-nn-keras/"
      ]
    },
    {
      "cell_type": "code",
      "metadata": {
        "id": "cH3NxMjZ4q46"
      },
      "source": [
        "import tensorflow as tf\n",
        "from tensorflow.keras.models import Sequential\n",
        "from tensorflow.keras.layers import Dense, Activation\n",
        "import numpy as np\n",
        "import matplotlib.pyplot as plt\n"
      ],
      "execution_count": 10,
      "outputs": []
    },
    {
      "cell_type": "code",
      "metadata": {
        "id": "650m_ft94tN0"
      },
      "source": [
        "model = Sequential()\n",
        "model.add(Dense(3, input_dim=2))\n",
        "model.add(Activation(\"relu\"))\n",
        "model.add(Dense(5))\n",
        "model.add(Activation(\"relu\"))\n",
        "model.add(Dense(2))\n",
        "model.add(Activation(\"sigmoid\"))\n",
        "\n",
        "model.compile(loss=\"binary_crossentropy\",\n",
        "              optimizer=\"adam\")"
      ],
      "execution_count": 11,
      "outputs": []
    },
    {
      "cell_type": "code",
      "metadata": {
        "id": "TbG_6B8T4vCx"
      },
      "source": [
        "x_list = np.array([[0.0, 0.0], [0.0, 1.0], [1.0, 0.0], [1.0, 1.0]])\n",
        "y_list = np.array([0, 1, 1, 0])\n",
        "one_hot_y_list = tf.one_hot(y_list, depth=2)"
      ],
      "execution_count": 12,
      "outputs": []
    },
    {
      "cell_type": "code",
      "metadata": {
        "colab": {
          "base_uri": "https://localhost:8080/"
        },
        "id": "H8MKebYOH1RK",
        "outputId": "86ae23bf-5171-4288-d4c6-8637c65162a3"
      },
      "source": [
        "print(\"---------------------------------------------\")\n",
        "print(\"学習前の予測結果\")\n",
        "print(\"---------------------------------------------\")\n",
        "for x,y in zip(x_list,y_list):\n",
        "    x = tf.expand_dims(x, 0)\n",
        "    print(f\"x:{x}, y:{y}, pred:{tf.argmax(model.predict(x)[0])}\")"
      ],
      "execution_count": 13,
      "outputs": [
        {
          "output_type": "stream",
          "text": [
            "---------------------------------------------\n",
            "学習前の予測結果\n",
            "---------------------------------------------\n",
            "x:[[0. 0.]], y:0, pred:0\n",
            "x:[[0. 1.]], y:1, pred:0\n",
            "x:[[1. 0.]], y:1, pred:1\n",
            "x:[[1. 1.]], y:0, pred:1\n"
          ],
          "name": "stdout"
        }
      ]
    },
    {
      "cell_type": "code",
      "metadata": {
        "id": "3Ppx11iZ4xH4"
      },
      "source": [
        "\n",
        "history = model.fit(x_list, one_hot_y_list, epochs=5000,verbose=0)\n"
      ],
      "execution_count": 14,
      "outputs": []
    },
    {
      "cell_type": "code",
      "metadata": {
        "colab": {
          "base_uri": "https://localhost:8080/",
          "height": 283
        },
        "id": "OxE6O-De6Pv7",
        "outputId": "726ddd76-c669-44e7-84c1-a990843f4bab"
      },
      "source": [
        "plt.plot(np.arange(len(history.history[\"loss\"])),history.history[\"loss\"])"
      ],
      "execution_count": 15,
      "outputs": [
        {
          "output_type": "execute_result",
          "data": {
            "text/plain": [
              "[<matplotlib.lines.Line2D at 0x7fedc88964a8>]"
            ]
          },
          "metadata": {
            "tags": []
          },
          "execution_count": 15
        },
        {
          "output_type": "display_data",
          "data": {
            "image/png": "[encoded data removed]",
            "text/plain": [
              "<Figure size 432x288 with 1 Axes>"
            ]
          },
          "metadata": {
            "tags": [],
            "needs_background": "light"
          }
        }
      ]
    },
    {
      "cell_type": "code",
      "metadata": {
        "colab": {
          "base_uri": "https://localhost:8080/"
        },
        "id": "C1_5PtLG4y4Z",
        "outputId": "45d099c1-137e-4d42-9aff-ebcc4bfef467"
      },
      "source": [
        "print(\"---------------------------------------------\")\n",
        "print(\"学習後の予測結果\")\n",
        "print(\"---------------------------------------------\")\n",
        "for x,y in zip(x_list,y_list):\n",
        "    x = tf.expand_dims(x, 0)\n",
        "    print(f\"x:{x}, y:{y}, pred:{tf.argmax(model.predict(x)[0])}\")\n"
      ],
      "execution_count": 16,
      "outputs": [
        {
          "output_type": "stream",
          "text": [
            "---------------------------------------------\n",
            "学習後の予測結果\n",
            "---------------------------------------------\n",
            "x:[[0. 0.]], y:0, pred:0\n",
            "x:[[0. 1.]], y:1, pred:1\n",
            "x:[[1. 0.]], y:1, pred:1\n",
            "x:[[1. 1.]], y:0, pred:0\n"
          ],
          "name": "stdout"
        }
      ]
    }
  ]
}