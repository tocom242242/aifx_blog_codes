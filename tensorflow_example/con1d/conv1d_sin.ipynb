{
  "nbformat": 4,
  "nbformat_minor": 0,
  "metadata": {
    "colab": {
      "name": "conv1d_sin.ipynb",
      "provenance": []
    },
    "kernelspec": {
      "name": "python3",
      "display_name": "Python 3"
    }
  },
  "cells": [
    {
      "cell_type": "markdown",
      "metadata": {
        "id": "7471ejC1b2Th"
      },
      "source": [
        "## Predict sine wave by 1D CNN"
      ]
    },
    {
      "cell_type": "code",
      "metadata": {
        "id": "4p5ri3ieQLLm"
      },
      "source": [
        "import tensorflow as tf\n",
        "import numpy as np\n",
        "import matplotlib.pyplot as plt"
      ],
      "execution_count": 71,
      "outputs": []
    },
    {
      "cell_type": "code",
      "metadata": {
        "colab": {
          "base_uri": "https://localhost:8080/",
          "height": 283
        },
        "id": "tnVutZhGQjj4",
        "outputId": "9c26f2a2-613f-4241-b56c-4f47f1901a13"
      },
      "source": [
        "import numpy as np\n",
        "\n",
        "x = np.linspace(-3*np.pi,3*np.pi,1000)\n",
        "y = np.sin(x)\n",
        "plt.plot(x, y) # 確認。別にプロットしなくていい"
      ],
      "execution_count": 72,
      "outputs": [
        {
          "output_type": "execute_result",
          "data": {
            "text/plain": [
              "[<matplotlib.lines.Line2D at 0x7f9ab3971be0>]"
            ]
          },
          "metadata": {
            "tags": []
          },
          "execution_count": 72
        },
        {
          "output_type": "display_data",
          "data": {
            "image/png": "[encoded data removed]",
            "text/plain": [
              "<Figure size 432x288 with 1 Axes>"
            ]
          },
          "metadata": {
            "tags": [],
            "needs_background": "light"
          }
        }
      ]
    },
    {
      "cell_type": "code",
      "metadata": {
        "id": "muOeGvLuRLnI"
      },
      "source": [
        "input_len = 5 # 入力の長さ\n",
        "X, Y = [], []\n",
        "for i, _ in enumerate(x):\n",
        "    if (i+input_len+1 >= len(x)):\n",
        "        break\n",
        "    X.append(y[i:i+input_len])\n",
        "    Y.append(y[i+input_len+1])"
      ],
      "execution_count": 73,
      "outputs": []
    },
    {
      "cell_type": "code",
      "metadata": {
        "id": "Hwf30uNARP47"
      },
      "source": [
        "split_index = int(len(X)*0.8)\n",
        "\n",
        "train_x = X[:split_index]\n",
        "train_y = Y[:split_index]\n",
        "test_x = X[split_index:]\n",
        "test_y = Y[split_index:]"
      ],
      "execution_count": 74,
      "outputs": []
    },
    {
      "cell_type": "code",
      "metadata": {
        "id": "UZX-pCN7RS6Z"
      },
      "source": [
        "train_x = np.array(train_x)\n",
        "train_x = train_x.reshape(train_x.shape[0], -1, 1)\n",
        "test_x = np.array(test_x)\n",
        "test_x = test_x.reshape(test_x.shape[0], -1, 1)\n",
        "\n",
        "train_y = np.array(train_y)\n",
        "test_y = np.array(test_y)"
      ],
      "execution_count": 75,
      "outputs": []
    },
    {
      "cell_type": "code",
      "metadata": {
        "colab": {
          "base_uri": "https://localhost:8080/"
        },
        "id": "wlR__99PVSJF",
        "outputId": "87fe4651-9c9a-421d-cd5a-677295e9fdf3"
      },
      "source": [
        "test_y.shape"
      ],
      "execution_count": 76,
      "outputs": [
        {
          "output_type": "execute_result",
          "data": {
            "text/plain": [
              "(199,)"
            ]
          },
          "metadata": {
            "tags": []
          },
          "execution_count": 76
        }
      ]
    },
    {
      "cell_type": "code",
      "metadata": {
        "colab": {
          "base_uri": "https://localhost:8080/"
        },
        "id": "P3QmGUJyR5tP",
        "outputId": "5201d25e-d137-4821-8f35-a44642fca62e"
      },
      "source": [
        "train_x.shape[1:]"
      ],
      "execution_count": 77,
      "outputs": [
        {
          "output_type": "execute_result",
          "data": {
            "text/plain": [
              "(5, 1)"
            ]
          },
          "metadata": {
            "tags": []
          },
          "execution_count": 77
        }
      ]
    },
    {
      "cell_type": "code",
      "metadata": {
        "id": "IvyTqbjGRidG"
      },
      "source": [
        "input_shape = train_x.shape[1:]\n",
        "model = tf.keras.models.Sequential()\n",
        "model.add(tf.keras.layers.Conv1D(32, 3, activation='relu',input_shape=input_shape))\n",
        "# model.add(tf.keras.layers.Conv1D(32, 3, activation='relu'))\n",
        "model.add(tf.keras.layers.Dense(16,activation='relu'))\n",
        "model.add(tf.keras.layers.Flatten())\n",
        "model.add(tf.keras.layers.Dense(1))\n",
        "model.compile(loss=\"mse\", optimizer=\"adam\")"
      ],
      "execution_count": 85,
      "outputs": []
    },
    {
      "cell_type": "code",
      "metadata": {
        "colab": {
          "base_uri": "https://localhost:8080/"
        },
        "id": "146Tb017XrJt",
        "outputId": "eff66e6c-f18e-4093-bfd3-406a29d2c3c4"
      },
      "source": [
        "# before training\n",
        "score = model.evaluate(test_x, test_y)\n",
        "print(score)"
      ],
      "execution_count": 86,
      "outputs": [
        {
          "output_type": "stream",
          "text": [
            "7/7 [==============================] - 0s 1ms/step - loss: 0.2600\n",
            "0.25999218225479126\n"
          ],
          "name": "stdout"
        }
      ]
    },
    {
      "cell_type": "code",
      "metadata": {
        "colab": {
          "base_uri": "https://localhost:8080/",
          "height": 1000
        },
        "id": "ZdYdeVFwTIYv",
        "outputId": "4d3170cf-a8bc-44dd-c108-540f4a9f1f33"
      },
      "source": [
        "hist = model.fit(train_x, train_y, batch_size=32, epochs=100, verbose=1)\n",
        "history = hist.history\n",
        "plt.plot(hist.epoch, history[\"loss\"], label=\"loss\")"
      ],
      "execution_count": 87,
      "outputs": [
        {
          "output_type": "stream",
          "text": [
            "Epoch 1/100\n",
            "25/25 [==============================] - 0s 1ms/step - loss: 0.4692\n",
            "Epoch 2/100\n",
            "25/25 [==============================] - 0s 1ms/step - loss: 0.1026\n",
            "Epoch 3/100\n",
            "25/25 [==============================] - 0s 1ms/step - loss: 0.0113\n",
            "Epoch 4/100\n",
            "25/25 [==============================] - 0s 1ms/step - loss: 0.0056\n",
            "Epoch 5/100\n",
            "25/25 [==============================] - 0s 1ms/step - loss: 0.0042\n",
            "Epoch 6/100\n",
            "25/25 [==============================] - 0s 1ms/step - loss: 0.0031\n",
            "Epoch 7/100\n",
            "25/25 [==============================] - 0s 1ms/step - loss: 0.0027\n",
            "Epoch 8/100\n",
            "25/25 [==============================] - 0s 1ms/step - loss: 0.0026\n",
            "Epoch 9/100\n",
            "25/25 [==============================] - 0s 1ms/step - loss: 0.0025\n",
            "Epoch 10/100\n",
            "25/25 [==============================] - 0s 1ms/step - loss: 0.0024\n",
            "Epoch 11/100\n",
            "25/25 [==============================] - 0s 1ms/step - loss: 0.0023\n",
            "Epoch 12/100\n",
            "25/25 [==============================] - 0s 1ms/step - loss: 0.0023\n",
            "Epoch 13/100\n",
            "25/25 [==============================] - 0s 1ms/step - loss: 0.0022\n",
            "Epoch 14/100\n",
            "25/25 [==============================] - 0s 1ms/step - loss: 0.0022\n",
            "Epoch 15/100\n",
            "25/25 [==============================] - 0s 1ms/step - loss: 0.0021\n",
            "Epoch 16/100\n",
            "25/25 [==============================] - 0s 1ms/step - loss: 0.0021\n",
            "Epoch 17/100\n",
            "25/25 [==============================] - 0s 1ms/step - loss: 0.0020\n",
            "Epoch 18/100\n",
            "25/25 [==============================] - 0s 1ms/step - loss: 0.0020\n",
            "Epoch 19/100\n",
            "25/25 [==============================] - 0s 1ms/step - loss: 0.0019\n",
            "Epoch 20/100\n",
            "25/25 [==============================] - 0s 1ms/step - loss: 0.0019\n",
            "Epoch 21/100\n",
            "25/25 [==============================] - 0s 1ms/step - loss: 0.0018\n",
            "Epoch 22/100\n",
            "25/25 [==============================] - 0s 1ms/step - loss: 0.0018\n",
            "Epoch 23/100\n",
            "25/25 [==============================] - 0s 1ms/step - loss: 0.0017\n",
            "Epoch 24/100\n",
            "25/25 [==============================] - 0s 1ms/step - loss: 0.0016\n",
            "Epoch 25/100\n",
            "25/25 [==============================] - 0s 1ms/step - loss: 0.0015\n",
            "Epoch 26/100\n",
            "25/25 [==============================] - 0s 1ms/step - loss: 0.0015\n",
            "Epoch 27/100\n",
            "25/25 [==============================] - 0s 2ms/step - loss: 0.0014\n",
            "Epoch 28/100\n",
            "25/25 [==============================] - 0s 1ms/step - loss: 0.0014\n",
            "Epoch 29/100\n",
            "25/25 [==============================] - 0s 1ms/step - loss: 0.0013\n",
            "Epoch 30/100\n",
            "25/25 [==============================] - 0s 1ms/step - loss: 0.0012\n",
            "Epoch 31/100\n",
            "25/25 [==============================] - 0s 1ms/step - loss: 0.0012\n",
            "Epoch 32/100\n",
            "25/25 [==============================] - 0s 1ms/step - loss: 0.0011\n",
            "Epoch 33/100\n",
            "25/25 [==============================] - 0s 1ms/step - loss: 0.0011\n",
            "Epoch 34/100\n",
            "25/25 [==============================] - 0s 1ms/step - loss: 0.0010\n",
            "Epoch 35/100\n",
            "25/25 [==============================] - 0s 1ms/step - loss: 9.6161e-04\n",
            "Epoch 36/100\n",
            "25/25 [==============================] - 0s 1ms/step - loss: 8.9425e-04\n",
            "Epoch 37/100\n",
            "25/25 [==============================] - 0s 1ms/step - loss: 8.3430e-04\n",
            "Epoch 38/100\n",
            "25/25 [==============================] - 0s 1ms/step - loss: 8.0195e-04\n",
            "Epoch 39/100\n",
            "25/25 [==============================] - 0s 1ms/step - loss: 7.1461e-04\n",
            "Epoch 40/100\n",
            "25/25 [==============================] - 0s 1ms/step - loss: 6.8301e-04\n",
            "Epoch 41/100\n",
            "25/25 [==============================] - 0s 1ms/step - loss: 6.9937e-04\n",
            "Epoch 42/100\n",
            "25/25 [==============================] - 0s 1ms/step - loss: 6.4810e-04\n",
            "Epoch 43/100\n",
            "25/25 [==============================] - 0s 1ms/step - loss: 5.4796e-04\n",
            "Epoch 44/100\n",
            "25/25 [==============================] - 0s 1ms/step - loss: 5.0530e-04\n",
            "Epoch 45/100\n",
            "25/25 [==============================] - 0s 1ms/step - loss: 5.2160e-04\n",
            "Epoch 46/100\n",
            "25/25 [==============================] - 0s 1ms/step - loss: 4.1380e-04\n",
            "Epoch 47/100\n",
            "25/25 [==============================] - 0s 1ms/step - loss: 3.7436e-04\n",
            "Epoch 48/100\n",
            "25/25 [==============================] - 0s 1ms/step - loss: 3.6113e-04\n",
            "Epoch 49/100\n",
            "25/25 [==============================] - 0s 1ms/step - loss: 3.6002e-04\n",
            "Epoch 50/100\n",
            "25/25 [==============================] - 0s 1ms/step - loss: 3.2304e-04\n",
            "Epoch 51/100\n",
            "25/25 [==============================] - 0s 1ms/step - loss: 2.9228e-04\n",
            "Epoch 52/100\n",
            "25/25 [==============================] - 0s 1ms/step - loss: 2.3604e-04\n",
            "Epoch 53/100\n",
            "25/25 [==============================] - 0s 1ms/step - loss: 2.2379e-04\n",
            "Epoch 54/100\n",
            "25/25 [==============================] - 0s 2ms/step - loss: 1.8365e-04\n",
            "Epoch 55/100\n",
            "25/25 [==============================] - 0s 1ms/step - loss: 1.6943e-04\n",
            "Epoch 56/100\n",
            "25/25 [==============================] - 0s 1ms/step - loss: 1.5566e-04\n",
            "Epoch 57/100\n",
            "25/25 [==============================] - 0s 1ms/step - loss: 1.3701e-04\n",
            "Epoch 58/100\n",
            "25/25 [==============================] - 0s 1ms/step - loss: 1.4151e-04\n",
            "Epoch 59/100\n",
            "25/25 [==============================] - 0s 2ms/step - loss: 1.1946e-04\n",
            "Epoch 60/100\n",
            "25/25 [==============================] - 0s 1ms/step - loss: 1.1523e-04\n",
            "Epoch 61/100\n",
            "25/25 [==============================] - 0s 1ms/step - loss: 8.9990e-05\n",
            "Epoch 62/100\n",
            "25/25 [==============================] - 0s 1ms/step - loss: 7.2868e-05\n",
            "Epoch 63/100\n",
            "25/25 [==============================] - 0s 1ms/step - loss: 6.7618e-05\n",
            "Epoch 64/100\n",
            "25/25 [==============================] - 0s 1ms/step - loss: 7.9370e-05\n",
            "Epoch 65/100\n",
            "25/25 [==============================] - 0s 1ms/step - loss: 5.7967e-05\n",
            "Epoch 66/100\n",
            "25/25 [==============================] - 0s 1ms/step - loss: 4.8742e-05\n",
            "Epoch 67/100\n",
            "25/25 [==============================] - 0s 1ms/step - loss: 4.6155e-05\n",
            "Epoch 68/100\n",
            "25/25 [==============================] - 0s 1ms/step - loss: 4.1593e-05\n",
            "Epoch 69/100\n",
            "25/25 [==============================] - 0s 1ms/step - loss: 3.6979e-05\n",
            "Epoch 70/100\n",
            "25/25 [==============================] - 0s 2ms/step - loss: 3.6239e-05\n",
            "Epoch 71/100\n",
            "25/25 [==============================] - 0s 1ms/step - loss: 3.2408e-05\n",
            "Epoch 72/100\n",
            "25/25 [==============================] - 0s 1ms/step - loss: 3.7273e-05\n",
            "Epoch 73/100\n",
            "25/25 [==============================] - 0s 1ms/step - loss: 2.8345e-05\n",
            "Epoch 74/100\n",
            "25/25 [==============================] - 0s 1ms/step - loss: 2.5521e-05\n",
            "Epoch 75/100\n",
            "25/25 [==============================] - 0s 1ms/step - loss: 2.5252e-05\n",
            "Epoch 76/100\n",
            "25/25 [==============================] - 0s 1ms/step - loss: 2.6847e-05\n",
            "Epoch 77/100\n",
            "25/25 [==============================] - 0s 1ms/step - loss: 2.4229e-05\n",
            "Epoch 78/100\n",
            "25/25 [==============================] - 0s 1ms/step - loss: 2.1170e-05\n",
            "Epoch 79/100\n",
            "25/25 [==============================] - 0s 1ms/step - loss: 2.0533e-05\n",
            "Epoch 80/100\n",
            "25/25 [==============================] - 0s 1ms/step - loss: 1.9344e-05\n",
            "Epoch 81/100\n",
            "25/25 [==============================] - 0s 1ms/step - loss: 1.8078e-05\n",
            "Epoch 82/100\n",
            "25/25 [==============================] - 0s 1ms/step - loss: 1.9083e-05\n",
            "Epoch 83/100\n",
            "25/25 [==============================] - 0s 1ms/step - loss: 1.7268e-05\n",
            "Epoch 84/100\n",
            "25/25 [==============================] - 0s 2ms/step - loss: 1.6225e-05\n",
            "Epoch 85/100\n",
            "25/25 [==============================] - 0s 1ms/step - loss: 1.6557e-05\n",
            "Epoch 86/100\n",
            "25/25 [==============================] - 0s 1ms/step - loss: 1.6503e-05\n",
            "Epoch 87/100\n",
            "25/25 [==============================] - 0s 1ms/step - loss: 1.6361e-05\n",
            "Epoch 88/100\n",
            "25/25 [==============================] - 0s 1ms/step - loss: 1.5906e-05\n",
            "Epoch 89/100\n",
            "25/25 [==============================] - 0s 1ms/step - loss: 1.7045e-05\n",
            "Epoch 90/100\n",
            "25/25 [==============================] - 0s 1ms/step - loss: 1.5782e-05\n",
            "Epoch 91/100\n",
            "25/25 [==============================] - 0s 1ms/step - loss: 1.7608e-05\n",
            "Epoch 92/100\n",
            "25/25 [==============================] - 0s 1ms/step - loss: 1.4068e-05\n",
            "Epoch 93/100\n",
            "25/25 [==============================] - 0s 1ms/step - loss: 1.4512e-05\n",
            "Epoch 94/100\n",
            "25/25 [==============================] - 0s 1ms/step - loss: 1.6020e-05\n",
            "Epoch 95/100\n",
            "25/25 [==============================] - 0s 1ms/step - loss: 1.2452e-05\n",
            "Epoch 96/100\n",
            "25/25 [==============================] - 0s 1ms/step - loss: 1.6309e-05\n",
            "Epoch 97/100\n",
            "25/25 [==============================] - 0s 1ms/step - loss: 1.4192e-05\n",
            "Epoch 98/100\n",
            "25/25 [==============================] - 0s 1ms/step - loss: 1.4421e-05\n",
            "Epoch 99/100\n",
            "25/25 [==============================] - 0s 1ms/step - loss: 1.3152e-05\n",
            "Epoch 100/100\n",
            "25/25 [==============================] - 0s 1ms/step - loss: 1.3584e-05\n"
          ],
          "name": "stdout"
        },
        {
          "output_type": "execute_result",
          "data": {
            "text/plain": [
              "[<matplotlib.lines.Line2D at 0x7f9ab3065a20>]"
            ]
          },
          "metadata": {
            "tags": []
          },
          "execution_count": 87
        },
        {
          "output_type": "display_data",
          "data": {
            "image/png": "[encoded data removed]",
            "text/plain": [
              "<Figure size 432x288 with 1 Axes>"
            ]
          },
          "metadata": {
            "tags": [],
            "needs_background": "light"
          }
        }
      ]
    },
    {
      "cell_type": "code",
      "metadata": {
        "colab": {
          "base_uri": "https://localhost:8080/"
        },
        "id": "-WPt-DU0T5q0",
        "outputId": "cdf3a3d7-3c26-456d-eb99-8e278d1949e9"
      },
      "source": [
        "# after training\n",
        "score = model.evaluate(test_x, test_y)\n",
        "print(score)"
      ],
      "execution_count": 88,
      "outputs": [
        {
          "output_type": "stream",
          "text": [
            "7/7 [==============================] - 0s 1ms/step - loss: 2.0558e-05\n",
            "2.055773620668333e-05\n"
          ],
          "name": "stdout"
        }
      ]
    },
    {
      "cell_type": "code",
      "metadata": {
        "colab": {
          "base_uri": "https://localhost:8080/",
          "height": 283
        },
        "id": "b-kKocgCT9be",
        "outputId": "f811ed55-2854-4147-f9ca-2594440fbe7f"
      },
      "source": [
        "plt.plot(np.arange(len(test_y)), test_y, label=\"sin\")\n",
        "predict_y = model.predict(test_x)\n",
        "predict_y = predict_y.reshape(predict_y.shape[:2])\n",
        "plt.plot(np.arange(len(test_y)), predict_y, label=\"predict\")\n",
        "plt.legend()"
      ],
      "execution_count": 89,
      "outputs": [
        {
          "output_type": "execute_result",
          "data": {
            "text/plain": [
              "<matplotlib.legend.Legend at 0x7f9aaf259240>"
            ]
          },
          "metadata": {
            "tags": []
          },
          "execution_count": 89
        },
        {
          "output_type": "display_data",
          "data": {
            "image/png": "[encoded data removed]",
            "text/plain": [
              "<Figure size 432x288 with 1 Axes>"
            ]
          },
          "metadata": {
            "tags": [],
            "needs_background": "light"
          }
        }
      ]
    }
  ]
}