{
  "nbformat": 4,
  "nbformat_minor": 0,
  "metadata": {
    "colab": {
      "name": "lineCollection.ipynb",
      "provenance": [],
      "authorship_tag": "ABX9TyNC3IM1MKyaZd2bWDUpWpfg",
      "include_colab_link": true
    },
    "kernelspec": {
      "name": "python3",
      "display_name": "Python 3"
    },
    "language_info": {
      "name": "python"
    }
  },
  "cells": [
    {
      "cell_type": "markdown",
      "metadata": {
        "id": "view-in-github",
        "colab_type": "text"
      },
      "source": [
        "<a href=\"https://colab.research.google.com/github/tocom242242/aifx_blog_codes/blob/master/matplotlib/lineCollection.ipynb\" target=\"_parent\"><img src=\"https://colab.research.google.com/assets/colab-badge.svg\" alt=\"Open In Colab\"/></a>"
      ]
    },
    {
      "cell_type": "code",
      "metadata": {
        "id": "oKIMKOx7sj_m"
      },
      "source": [
        "import matplotlib.pyplot as plt\n",
        "from matplotlib.collections import LineCollection"
      ],
      "execution_count": 6,
      "outputs": []
    },
    {
      "cell_type": "code",
      "metadata": {
        "colab": {
          "base_uri": "https://localhost:8080/"
        },
        "id": "Il2RC5FWsrtU",
        "outputId": "0f0c31e0-f4d8-47bd-d9f1-07d64dcf7505"
      },
      "source": [
        "start_pos = [[0,0], [3,3]]\n",
        "end_pos = [[1,1], [5,8]]\n",
        "\n",
        "\n",
        "lines = [ [sp,ep] for sp,ep in zip(start_pos, end_pos)]\n",
        "lines"
      ],
      "execution_count": 7,
      "outputs": [
        {
          "output_type": "execute_result",
          "data": {
            "text/plain": [
              "[[[0, 0], [1, 1]], [[3, 3], [5, 8]]]"
            ]
          },
          "metadata": {
            "tags": []
          },
          "execution_count": 7
        }
      ]
    },
    {
      "cell_type": "code",
      "metadata": {
        "id": "AO5XXvHztodS"
      },
      "source": [
        "colors = [\"b\", \"r\"]\n",
        "lc = LineCollection(lines, colors=colors)"
      ],
      "execution_count": 8,
      "outputs": []
    },
    {
      "cell_type": "code",
      "metadata": {
        "colab": {
          "base_uri": "https://localhost:8080/",
          "height": 264
        },
        "id": "Eyu2NjGDto5V",
        "outputId": "1c6eb805-6203-4106-8e8b-2381dc15cdd4"
      },
      "source": [
        "fig, ax = plt.subplots()\n",
        "ax.add_collection(lc)\n",
        "ax.autoscale()\n",
        "plt.show()"
      ],
      "execution_count": 9,
      "outputs": [
        {
          "output_type": "display_data",
          "data": {
            "image/png": "[encoded data removed]",
            "text/plain": [
              "<Figure size 432x288 with 1 Axes>"
            ]
          },
          "metadata": {
            "tags": [],
            "needs_background": "light"
          }
        }
      ]
    }
  ]
}