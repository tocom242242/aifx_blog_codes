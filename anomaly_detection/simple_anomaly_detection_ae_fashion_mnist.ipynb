{
  "nbformat": 4,
  "nbformat_minor": 0,
  "metadata": {
    "colab": {
      "name": "simple_anomaly_detection_ae_fashion_mnist.ipynb",
      "provenance": [],
      "authorship_tag": "ABX9TyNkI3Nr2uamAd58xcrTY/4L",
      "include_colab_link": true
    },
    "kernelspec": {
      "name": "python3",
      "display_name": "Python 3"
    },
    "language_info": {
      "name": "python"
    }
  },
  "cells": [
    {
      "cell_type": "markdown",
      "metadata": {
        "id": "view-in-github",
        "colab_type": "text"
      },
      "source": [
        "<a href=\"https://colab.research.google.com/github/tocom242242/aifx_blog_codes/blob/master/anomaly_detection/simple_anomaly_detection_ae_fashion_mnist.ipynb\" target=\"_parent\"><img src=\"https://colab.research.google.com/assets/colab-badge.svg\" alt=\"Open In Colab\"/></a>"
      ]
    },
    {
      "cell_type": "code",
      "metadata": {
        "id": "cBATv9KRb-xx"
      },
      "source": [
        "from tensorflow.keras import datasets, layers, models\n",
        "from sklearn.metrics import roc_auc_score\n",
        "import matplotlib.pyplot as plt\n",
        "import numpy as np"
      ],
      "execution_count": null,
      "outputs": []
    },
    {
      "cell_type": "markdown",
      "metadata": {
        "id": "ilDrISp1grj-"
      },
      "source": [
        ""
      ]
    },
    {
      "cell_type": "code",
      "metadata": {
        "id": "OZ5eVnDkeEKK"
      },
      "source": [
        "(x_train, y_train), (x_test, y_test) = datasets.()"
      ],
      "execution_count": null,
      "outputs": []
    },
    {
      "cell_type": "code",
      "metadata": {
        "id": "vQSrlGuqeNyr"
      },
      "source": [
        "x_train = x_train / 255\n",
        "x_test = x_test / 255"
      ],
      "execution_count": null,
      "outputs": []
    },
    {
      "cell_type": "code",
      "metadata": {
        "id": "9Ur2CjwCSZlk"
      },
      "source": [
        "normal_idx = 5\n",
        "abnormal_idx = 7"
      ],
      "execution_count": null,
      "outputs": []
    },
    {
      "cell_type": "code",
      "metadata": {
        "id": "C6Y5cdNB3LFN"
      },
      "source": [
        "x_normal_train = x_train[np.where(y_train==normal_idx,True,False)]\n",
        "x_normal_test = x_test[np.where(y_test==normal_idx,True,False)]"
      ],
      "execution_count": null,
      "outputs": []
    },
    {
      "cell_type": "code",
      "metadata": {
        "id": "WrvaDnQa67o6"
      },
      "source": [
        "x_abnormal_train = x_train[np.where(y_train==abnormal_idx,True,False)]\n",
        "x_abnormal_test = x_test[np.where(y_test==abnormal_idx,True,False)]"
      ],
      "execution_count": null,
      "outputs": []
    },
    {
      "cell_type": "code",
      "metadata": {
        "id": "tnLJ80pV7Gn3"
      },
      "source": [
        "# normalが1,異常が0\n",
        "y_test = np.concatenate((np.ones(x_normal_test.shape[0]),np.zeros(x_abnormal_test.shape[0])))"
      ],
      "execution_count": null,
      "outputs": []
    },
    {
      "cell_type": "code",
      "metadata": {
        "id": "cOg0lnb08zCV"
      },
      "source": [
        "x_test = np.concatenate((x_normal_test,x_abnormal_test))"
      ],
      "execution_count": null,
      "outputs": []
    },
    {
      "cell_type": "code",
      "metadata": {
        "colab": {
          "base_uri": "https://localhost:8080/",
          "height": 283
        },
        "id": "nRzBX-6h7BnB",
        "outputId": "869b5f6f-e9a6-4dfb-8ed1-f50aead8c7db"
      },
      "source": [
        "plt.imshow(x_normal_train[80])"
      ],
      "execution_count": null,
      "outputs": [
        {
          "output_type": "execute_result",
          "data": {
            "text/plain": [
              "<matplotlib.image.AxesImage at 0x7fa3aa4be590>"
            ]
          },
          "metadata": {
            "tags": []
          },
          "execution_count": 36
        },
        {
          "output_type": "display_data",
          "data": {
            "image/png": "[encoded data removed]",
            "text/plain": [
              "<Figure size 432x288 with 1 Axes>"
            ]
          },
          "metadata": {
            "tags": [],
            "needs_background": "light"
          }
        }
      ]
    },
    {
      "cell_type": "code",
      "metadata": {
        "colab": {
          "base_uri": "https://localhost:8080/",
          "height": 283
        },
        "id": "Ca2GNLC9Bsl8",
        "outputId": "59805d3f-eba0-41cb-f785-b8da14019113"
      },
      "source": [
        "plt.imshow(x_abnormal_train[80])"
      ],
      "execution_count": null,
      "outputs": [
        {
          "output_type": "execute_result",
          "data": {
            "text/plain": [
              "<matplotlib.image.AxesImage at 0x7fa3aa4a4310>"
            ]
          },
          "metadata": {
            "tags": []
          },
          "execution_count": 37
        },
        {
          "output_type": "display_data",
          "data": {
            "image/png": "[encoded data removed]",
            "text/plain": [
              "<Figure size 432x288 with 1 Axes>"
            ]
          },
          "metadata": {
            "tags": [],
            "needs_background": "light"
          }
        }
      ]
    },
    {
      "cell_type": "code",
      "metadata": {
        "id": "ot5E381wMNhG"
      },
      "source": [
        "x_test = x_test.reshape(x_test.shape[0], 28*28)\n",
        "x_normal_train = x_normal_train.reshape(x_normal_train.shape[0], 28*28)"
      ],
      "execution_count": null,
      "outputs": []
    },
    {
      "cell_type": "markdown",
      "metadata": {
        "id": "6r1NEEv5MnEO"
      },
      "source": [
        "## 異常検知"
      ]
    },
    {
      "cell_type": "code",
      "metadata": {
        "id": "1uWtP1pIFaiU",
        "colab": {
          "base_uri": "https://localhost:8080/"
        },
        "outputId": "4fbcc73f-8e06-482e-f9e9-0efc75fb7c6f"
      },
      "source": [
        "from sklearn.svm import OneClassSVM\n",
        "\n",
        "svm = OneClassSVM()\n",
        "svm.fit(x_normal_train)"
      ],
      "execution_count": null,
      "outputs": [
        {
          "output_type": "execute_result",
          "data": {
            "text/plain": [
              "OneClassSVM(cache_size=200, coef0=0.0, degree=3, gamma='scale', kernel='rbf',\n",
              "            max_iter=-1, nu=0.5, shrinking=True, tol=0.001, verbose=False)"
            ]
          },
          "metadata": {
            "tags": []
          },
          "execution_count": 39
        }
      ]
    },
    {
      "cell_type": "code",
      "metadata": {
        "id": "xuyrtnEvW2R2",
        "colab": {
          "base_uri": "https://localhost:8080/"
        },
        "outputId": "d23b0b71-ecff-434e-c842-f859009fc07c"
      },
      "source": [
        "y_score = svm.decision_function(x_test)\n",
        "from sklearn.metrics import roc_auc_score\n",
        "auc_baseline = roc_auc_score(y_test,y_score)\n",
        "auc_baseline"
      ],
      "execution_count": null,
      "outputs": [
        {
          "output_type": "execute_result",
          "data": {
            "text/plain": [
              "0.509236"
            ]
          },
          "metadata": {
            "tags": []
          },
          "execution_count": 40
        }
      ]
    },
    {
      "cell_type": "code",
      "metadata": {
        "id": "_dLF8b1g5_Gu"
      },
      "source": [
        "def plot_roc(svm,x_test):\n",
        "    y_score = svm.decision_function(x_test)\n",
        "    auc = roc_auc_score(y_test,y_score)\n",
        "    fpr, tpr, thresholds = roc_curve(y_test, y_score)\n",
        "    plt.plot(fpr, tpr, label='baseline(AUC = %.2f)'%auc)\n",
        "    plt.plot([0,1],[0,1],'k--')\n",
        "    plt.legend()\n",
        "    plt.title('ROC curve')\n",
        "    plt.xlabel('False Positive Rate')\n",
        "    plt.ylabel('True Positive Rate')\n",
        "    plt.grid(True)\n",
        "    plt.show()"
      ],
      "execution_count": null,
      "outputs": []
    },
    {
      "cell_type": "code",
      "metadata": {
        "id": "NlyBkOlheCIJ"
      },
      "source": [
        "from sklearn.metrics import roc_curve\n",
        "fpr_baseline, tpr_baseline, thresholds = roc_curve(y_test, y_score)"
      ],
      "execution_count": null,
      "outputs": []
    },
    {
      "cell_type": "code",
      "metadata": {
        "colab": {
          "base_uri": "https://localhost:8080/",
          "height": 295
        },
        "id": "62S3k3tEF7He",
        "outputId": "9ad0532c-097d-4c59-8799-d3f6e85cee72"
      },
      "source": [
        "plt.plot(fpr_baseline, tpr_baseline, label='baseline(AUC = %.2f)'%auc_baseline)\n",
        "plt.plot([0,1],[0,1],'k--')\n",
        "plt.legend()\n",
        "plt.title('ROC curve')\n",
        "plt.xlabel('False Positive Rate')\n",
        "plt.ylabel('True Positive Rate')\n",
        "plt.grid(True)\n",
        "plt.show()"
      ],
      "execution_count": null,
      "outputs": [
        {
          "output_type": "display_data",
          "data": {
            "image/png": "[encoded data removed]",
            "text/plain": [
              "<Figure size 432x288 with 1 Axes>"
            ]
          },
          "metadata": {
            "tags": [],
            "needs_background": "light"
          }
        }
      ]
    },
    {
      "cell_type": "code",
      "metadata": {
        "colab": {
          "base_uri": "https://localhost:8080/"
        },
        "id": "c9RnjjP8Soai",
        "outputId": "993cd765-d30a-469b-9ec5-081fcdef0436"
      },
      "source": [
        "y_pred = svm.predict(x_test)\n",
        "y_pred"
      ],
      "execution_count": null,
      "outputs": [
        {
          "output_type": "execute_result",
          "data": {
            "text/plain": [
              "array([ 1,  1,  1, ..., -1, -1, -1])"
            ]
          },
          "metadata": {
            "tags": []
          },
          "execution_count": 44
        }
      ]
    },
    {
      "cell_type": "code",
      "metadata": {
        "id": "8nHEjS6USvSB"
      },
      "source": [
        "y_pred = np.where(y_pred==-1,0,1)\n",
        "# y_pred = np.where(y_pred==-1,1,0)"
      ],
      "execution_count": null,
      "outputs": []
    },
    {
      "cell_type": "code",
      "metadata": {
        "colab": {
          "base_uri": "https://localhost:8080/"
        },
        "id": "VBgTl3sOTDOu",
        "outputId": "d0f912da-4acc-4e8b-866b-3f481837713f"
      },
      "source": [
        "from sklearn.metrics import confusion_matrix\n",
        "confusion_matrix(y_test, y_pred)"
      ],
      "execution_count": null,
      "outputs": [
        {
          "output_type": "execute_result",
          "data": {
            "text/plain": [
              "array([[597, 403],\n",
              "       [495, 505]])"
            ]
          },
          "metadata": {
            "tags": []
          },
          "execution_count": 46
        }
      ]
    },
    {
      "cell_type": "code",
      "metadata": {
        "colab": {
          "base_uri": "https://localhost:8080/"
        },
        "id": "a6CFSjz5TaAI",
        "outputId": "46bdf947-2844-4592-c3f8-1f6037d1bf0c"
      },
      "source": [
        "from sklearn.metrics import classification_report\n",
        "print(classification_report(y_test,y_pred))"
      ],
      "execution_count": null,
      "outputs": [
        {
          "output_type": "stream",
          "text": [
            "              precision    recall  f1-score   support\n",
            "\n",
            "         0.0       0.55      0.60      0.57      1000\n",
            "         1.0       0.56      0.51      0.53      1000\n",
            "\n",
            "    accuracy                           0.55      2000\n",
            "   macro avg       0.55      0.55      0.55      2000\n",
            "weighted avg       0.55      0.55      0.55      2000\n",
            "\n"
          ],
          "name": "stdout"
        }
      ]
    },
    {
      "cell_type": "code",
      "metadata": {
        "id": "x5jrER7bTNfD"
      },
      "source": [
        "# plt.scatter(x_test[:, 0], x_test[:, 1], c=y_pred, cmap=cm.seismic)\n",
        "# plt.scatter(x_test[:, 0], x_test[:, 1], c=y_pred)\n",
        "# plt.colorbar()\n"
      ],
      "execution_count": null,
      "outputs": []
    },
    {
      "cell_type": "code",
      "metadata": {
        "colab": {
          "base_uri": "https://localhost:8080/"
        },
        "id": "ZaMc0L504EAa",
        "outputId": "4b07d02e-05de-49b8-e955-c107cdaaec6d"
      },
      "source": [
        "import tensorflow as tf\n",
        "\n",
        "from sklearn.metrics import accuracy_score, precision_score, recall_score\n",
        "from sklearn.model_selection import train_test_split\n",
        "from tensorflow.keras import layers, losses\n",
        "from tensorflow.keras.datasets import fashion_mnist\n",
        "from tensorflow.keras.models import Model\n",
        "\n",
        "latent_dim = 2 \n",
        "\n",
        "class Autoencoder(Model):\n",
        "  def __init__(self, latent_dim):\n",
        "    super(Autoencoder, self).__init__()\n",
        "    self.latent_dim = latent_dim   \n",
        "    self.encoder = tf.keras.Sequential([\n",
        "    #   layers.Flatten(),\n",
        "      layers.Dense(64, activation='relu'),\n",
        "      layers.Dense(32, activation='relu'),\n",
        "      layers.Dense(latent_dim, activation='relu'),\n",
        "    ])\n",
        "    self.decoder = tf.keras.Sequential([\n",
        "      layers.Dense(32, activation='relu'),\n",
        "      layers.Dense(64, activation='relu'),\n",
        "      layers.Dense(784, activation='sigmoid'),\n",
        "    #   layers.Reshape((28, 28))\n",
        "    ])\n",
        "\n",
        "  def call(self, x):\n",
        "    encoded = self.encoder(x)\n",
        "    decoded = self.decoder(encoded)\n",
        "    return decoded\n",
        "\n",
        "autoencoder = Autoencoder(latent_dim)\n",
        "autoencoder.compile(optimizer='adam', loss=losses.MeanSquaredError())\n",
        "\n",
        "history = autoencoder.fit(x_normal_train, x_normal_train,\n",
        "                epochs=50,\n",
        "                shuffle=True)\n",
        "\n",
        "# decoded_imgs = autoencoder.decoder(features).numpy()"
      ],
      "execution_count": null,
      "outputs": [
        {
          "output_type": "stream",
          "text": [
            "Epoch 1/50\n",
            "188/188 [==============================] - 1s 3ms/step - loss: 0.0992\n",
            "Epoch 2/50\n",
            "188/188 [==============================] - 1s 3ms/step - loss: 0.0439\n",
            "Epoch 3/50\n",
            "188/188 [==============================] - 1s 3ms/step - loss: 0.0392\n",
            "Epoch 4/50\n",
            "188/188 [==============================] - 1s 3ms/step - loss: 0.0368\n",
            "Epoch 5/50\n",
            "188/188 [==============================] - 0s 2ms/step - loss: 0.0341\n",
            "Epoch 6/50\n",
            "188/188 [==============================] - 0s 2ms/step - loss: 0.0324\n",
            "Epoch 7/50\n",
            "188/188 [==============================] - 0s 2ms/step - loss: 0.0320\n",
            "Epoch 8/50\n",
            "188/188 [==============================] - 0s 2ms/step - loss: 0.0318\n",
            "Epoch 9/50\n",
            "188/188 [==============================] - 0s 2ms/step - loss: 0.0313\n",
            "Epoch 10/50\n",
            "188/188 [==============================] - 0s 2ms/step - loss: 0.0313\n",
            "Epoch 11/50\n",
            "188/188 [==============================] - 0s 3ms/step - loss: 0.0309\n",
            "Epoch 12/50\n",
            "188/188 [==============================] - 0s 2ms/step - loss: 0.0309\n",
            "Epoch 13/50\n",
            "188/188 [==============================] - 0s 2ms/step - loss: 0.0308\n",
            "Epoch 14/50\n",
            "188/188 [==============================] - 0s 2ms/step - loss: 0.0309\n",
            "Epoch 15/50\n",
            "188/188 [==============================] - 0s 2ms/step - loss: 0.0302\n",
            "Epoch 16/50\n",
            "188/188 [==============================] - 0s 2ms/step - loss: 0.0303\n",
            "Epoch 17/50\n",
            "188/188 [==============================] - 0s 2ms/step - loss: 0.0304\n",
            "Epoch 18/50\n",
            "188/188 [==============================] - 0s 2ms/step - loss: 0.0307\n",
            "Epoch 19/50\n",
            "188/188 [==============================] - 0s 2ms/step - loss: 0.0300\n",
            "Epoch 20/50\n",
            "188/188 [==============================] - 0s 2ms/step - loss: 0.0305\n",
            "Epoch 21/50\n",
            "188/188 [==============================] - 0s 2ms/step - loss: 0.0300\n",
            "Epoch 22/50\n",
            "188/188 [==============================] - 0s 3ms/step - loss: 0.0302\n",
            "Epoch 23/50\n",
            "188/188 [==============================] - 1s 3ms/step - loss: 0.0302\n",
            "Epoch 24/50\n",
            "188/188 [==============================] - 1s 3ms/step - loss: 0.0302\n",
            "Epoch 25/50\n",
            "188/188 [==============================] - 0s 3ms/step - loss: 0.0295\n",
            "Epoch 26/50\n",
            "188/188 [==============================] - 0s 2ms/step - loss: 0.0297\n",
            "Epoch 27/50\n",
            "188/188 [==============================] - 0s 2ms/step - loss: 0.0299\n",
            "Epoch 28/50\n",
            "188/188 [==============================] - 0s 2ms/step - loss: 0.0301\n",
            "Epoch 29/50\n",
            "188/188 [==============================] - 0s 2ms/step - loss: 0.0295\n",
            "Epoch 30/50\n",
            "188/188 [==============================] - 0s 2ms/step - loss: 0.0298\n",
            "Epoch 31/50\n",
            "188/188 [==============================] - 0s 2ms/step - loss: 0.0297\n",
            "Epoch 32/50\n",
            "188/188 [==============================] - 0s 2ms/step - loss: 0.0293\n",
            "Epoch 33/50\n",
            "188/188 [==============================] - 0s 2ms/step - loss: 0.0297\n",
            "Epoch 34/50\n",
            "188/188 [==============================] - 0s 3ms/step - loss: 0.0294\n",
            "Epoch 35/50\n",
            "188/188 [==============================] - 0s 3ms/step - loss: 0.0293\n",
            "Epoch 36/50\n",
            "188/188 [==============================] - 0s 2ms/step - loss: 0.0294\n",
            "Epoch 37/50\n",
            "188/188 [==============================] - 0s 2ms/step - loss: 0.0293\n",
            "Epoch 38/50\n",
            "188/188 [==============================] - 0s 3ms/step - loss: 0.0294\n",
            "Epoch 39/50\n",
            "188/188 [==============================] - 0s 3ms/step - loss: 0.0294\n",
            "Epoch 40/50\n",
            "188/188 [==============================] - 1s 3ms/step - loss: 0.0292\n",
            "Epoch 41/50\n",
            "188/188 [==============================] - 1s 3ms/step - loss: 0.0294\n",
            "Epoch 42/50\n",
            "188/188 [==============================] - 0s 3ms/step - loss: 0.0292\n",
            "Epoch 43/50\n",
            "188/188 [==============================] - 0s 2ms/step - loss: 0.0297\n",
            "Epoch 44/50\n",
            "188/188 [==============================] - 0s 2ms/step - loss: 0.0290\n",
            "Epoch 45/50\n",
            "188/188 [==============================] - 0s 3ms/step - loss: 0.0292\n",
            "Epoch 46/50\n",
            "188/188 [==============================] - 1s 4ms/step - loss: 0.0288\n",
            "Epoch 47/50\n",
            "188/188 [==============================] - 1s 4ms/step - loss: 0.0291\n",
            "Epoch 48/50\n",
            "188/188 [==============================] - 1s 3ms/step - loss: 0.0291\n",
            "Epoch 49/50\n",
            "188/188 [==============================] - 0s 3ms/step - loss: 0.0291\n",
            "Epoch 50/50\n",
            "188/188 [==============================] - 0s 2ms/step - loss: 0.0293\n"
          ],
          "name": "stdout"
        }
      ]
    },
    {
      "cell_type": "code",
      "metadata": {
        "id": "P1F6uOWj526O"
      },
      "source": [
        "svm = OneClassSVM()\n",
        "x_normal_train = autoencoder.encoder(x_normal_train).numpy()\n",
        "svm.fit(x_normal_train)\n",
        "\n",
        "# x_test = autoencoder.encoder(x_test).numpy()\n",
        "x_test = autoencoder.encoder(x_test).numpy()\n",
        "# plot_roc(svm,x_test)"
      ],
      "execution_count": null,
      "outputs": []
    },
    {
      "cell_type": "code",
      "metadata": {
        "colab": {
          "base_uri": "https://localhost:8080/",
          "height": 295
        },
        "id": "nFmmK4L37Epc",
        "outputId": "0ce31c78-8a53-4aee-d893-608a144ec2c2"
      },
      "source": [
        "y_score = svm.decision_function(x_test)\n",
        "auc_ae = roc_auc_score(y_test,y_score)\n",
        "fpr_ae, tpr_ae, thresholds = roc_curve(y_test, y_score)\n",
        "plt.plot(fpr_baseline, tpr_baseline, label='baseline(AUC = %.2f)'%auc_baseline)\n",
        "plt.plot(fpr_ae, tpr_ae, label='Auto Encoder(AUC = %.2f)'%auc_ae)\n",
        "plt.plot([0,1],[0,1],'k--')\n",
        "plt.legend()\n",
        "plt.title('ROC curve')\n",
        "plt.xlabel('False Positive Rate')\n",
        "plt.ylabel('True Positive Rate')\n",
        "plt.grid(True)\n",
        "plt.show()"
      ],
      "execution_count": null,
      "outputs": [
        {
          "output_type": "display_data",
          "data": {
            "image/png": "[encoded data removed]",
            "text/plain": [
              "<Figure size 432x288 with 1 Axes>"
            ]
          },
          "metadata": {
            "tags": [],
            "needs_background": "light"
          }
        }
      ]
    },
    {
      "cell_type": "code",
      "metadata": {
        "colab": {
          "base_uri": "https://localhost:8080/",
          "height": 287
        },
        "id": "tFXMTh_96-5N",
        "outputId": "dd5eb1e8-1ef6-44fb-92c2-6add93447576"
      },
      "source": [
        "plt.scatter(x_test[:, 0], x_test[:, 1], c=y_pred)\n",
        "plt.colorbar()\n"
      ],
      "execution_count": null,
      "outputs": [
        {
          "output_type": "execute_result",
          "data": {
            "text/plain": [
              "<matplotlib.colorbar.Colorbar at 0x7fa3a9983b10>"
            ]
          },
          "metadata": {
            "tags": []
          },
          "execution_count": 52
        },
        {
          "output_type": "display_data",
          "data": {
            "image/png": "[encoded data removed]",
            "text/plain": [
              "<Figure size 432x288 with 2 Axes>"
            ]
          },
          "metadata": {
            "tags": [],
            "needs_background": "light"
          }
        }
      ]
    },
    {
      "cell_type": "code",
      "metadata": {
        "id": "wEzr0t-jDFhJ",
        "colab": {
          "base_uri": "https://localhost:8080/",
          "height": 287
        },
        "outputId": "b62c4873-c165-45f9-9c87-7449ddf80b29"
      },
      "source": [
        "plt.scatter(x_test[:, 0], x_test[:, 1], c=y_test)\n",
        "plt.colorbar()"
      ],
      "execution_count": null,
      "outputs": [
        {
          "output_type": "execute_result",
          "data": {
            "text/plain": [
              "<matplotlib.colorbar.Colorbar at 0x7fa3a98d0810>"
            ]
          },
          "metadata": {
            "tags": []
          },
          "execution_count": 53
        },
        {
          "output_type": "display_data",
          "data": {
            "image/png": "[encoded data removed]",
            "text/plain": [
              "<Figure size 432x288 with 2 Axes>"
            ]
          },
          "metadata": {
            "tags": [],
            "needs_background": "light"
          }
        }
      ]
    }
  ]
}