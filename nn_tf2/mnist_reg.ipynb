{
  "nbformat": 4,
  "nbformat_minor": 0,
  "metadata": {
    "colab": {
      "name": "mnist_reg.ipynb",
      "provenance": [],
      "authorship_tag": "ABX9TyPwvvw4s2Az8g/NtzIbsN5X",
      "include_colab_link": true
    },
    "kernelspec": {
      "name": "python3",
      "display_name": "Python 3"
    }
  },
  "cells": [
    {
      "cell_type": "markdown",
      "metadata": {
        "id": "view-in-github",
        "colab_type": "text"
      },
      "source": [
        "<a href=\"https://colab.research.google.com/github/tocom242242/aifx_blog_codes/blob/master/nn_tf2/mnist_reg.ipynb\" target=\"_parent\"><img src=\"https://colab.research.google.com/assets/colab-badge.svg\" alt=\"Open In Colab\"/></a>"
      ]
    },
    {
      "cell_type": "code",
      "metadata": {
        "id": "tasDwncr-oFY"
      },
      "source": [
        "import keras\n",
        "from keras.datasets import mnist\n",
        "import numpy as np\n",
        "from keras.models import Sequential\n",
        "from keras.layers.core import Dense, Activation\n",
        "import matplotlib.pyplot as plt"
      ],
      "execution_count": 1,
      "outputs": []
    },
    {
      "cell_type": "code",
      "metadata": {
        "id": "2uILtH6_-q_A"
      },
      "source": [
        "# mnistのデータの取得\n",
        "(x_train, y_train), (x_test, y_test) = mnist.load_data()"
      ],
      "execution_count": 2,
      "outputs": []
    },
    {
      "cell_type": "code",
      "metadata": {
        "colab": {
          "base_uri": "https://localhost:8080/",
          "height": 268
        },
        "id": "mMPW5Bg-8Q7u",
        "outputId": "1532ec36-ffb1-49e9-a0cb-bdbc6548b94e"
      },
      "source": [
        "def plot_images(images_arr):\n",
        "    fig, axes = plt.subplots(1, 5, figsize=(20,20))\n",
        "    axes = axes.flatten()\n",
        "    for img, ax in zip(images_arr, axes):\n",
        "        ax.imshow(img)\n",
        "        ax.axis('off')\n",
        "    plt.tight_layout()\n",
        "    plt.show()\n",
        "\n",
        "plot_images(x_train[0:5])"
      ],
      "execution_count": 3,
      "outputs": [
        {
          "output_type": "display_data",
          "data": {
            "image/png": "[encoded data removed]",
            "text/plain": [
              "<Figure size 1440x1440 with 5 Axes>"
            ]
          },
          "metadata": {
            "tags": [],
            "needs_background": "light"
          }
        }
      ]
    },
    {
      "cell_type": "code",
      "metadata": {
        "id": "FKDStSjF-st1"
      },
      "source": [
        "# 二次元配列から一次元に変換\n",
        "x_train = np.array(x_train).reshape(len(x_train), 784)  \n",
        "x_test = np.array(x_test).reshape(len(x_test), 784)\n",
        "x_train = np.array(x_train).astype(\"float32\")\n",
        "x_test = np.array(x_test).astype(\"float32\")\n",
        "\n",
        "# 0〜1に正規化\n",
        "x_train /= 255\n",
        "x_test /= 255\n",
        "y_train = np.array(y_train)\n",
        "y_test = np.array(y_test)"
      ],
      "execution_count": 4,
      "outputs": []
    },
    {
      "cell_type": "code",
      "metadata": {
        "id": "enzFXrm9_KoL"
      },
      "source": [
        "# モデルの構築\n",
        "model = Sequential()\n",
        "model.add(Dense(256, input_shape=(784,)))\n",
        "model.add(Activation('relu'))\n",
        "model.add(Dense(126))\n",
        "model.add(Activation('relu'))\n",
        "model.add(Dense(32))\n",
        "model.add(Activation('relu'))\n",
        "model.add(Dense(1))\n",
        "model.add(Activation('linear'))\n",
        "# 誤差関数は平均二乗誤差、最適化手法はrmsprop\n",
        "model.compile(loss=\"mean_squared_error\", optimizer=\"rmsprop\")"
      ],
      "execution_count": 5,
      "outputs": []
    },
    {
      "cell_type": "code",
      "metadata": {
        "colab": {
          "base_uri": "https://localhost:8080/"
        },
        "id": "pLKYrslEAgkI",
        "outputId": "1392b17f-0a5f-4fef-e1a6-84236dd0a353"
      },
      "source": [
        "model.evaluate(x_test,y_test)"
      ],
      "execution_count": 6,
      "outputs": [
        {
          "output_type": "stream",
          "text": [
            "313/313 [==============================] - 1s 1ms/step - loss: 27.9181\n"
          ],
          "name": "stdout"
        },
        {
          "output_type": "execute_result",
          "data": {
            "text/plain": [
              "28.14776611328125"
            ]
          },
          "metadata": {
            "tags": []
          },
          "execution_count": 6
        }
      ]
    },
    {
      "cell_type": "code",
      "metadata": {
        "colab": {
          "base_uri": "https://localhost:8080/",
          "height": 287
        },
        "id": "CakvtKf9AhfT",
        "outputId": "570d6beb-3aef-4f33-9603-f1c1f1e75174"
      },
      "source": [
        "y_preds = []\n",
        "for x, y in zip(x_test[0:100], y_test[0:100]):\n",
        "    predicted_y = model.predict(np.array([x]))[0][0]\n",
        "    y_preds.append(predicted_y)\n",
        "plt.scatter(y_test[0:100], y_preds)"
      ],
      "execution_count": 7,
      "outputs": [
        {
          "output_type": "execute_result",
          "data": {
            "text/plain": [
              "<matplotlib.collections.PathCollection at 0x7f6fbb5ebf98>"
            ]
          },
          "metadata": {
            "tags": []
          },
          "execution_count": 7
        },
        {
          "output_type": "display_data",
          "data": {
            "image/png": "[encoded data removed]",
            "text/plain": [
              "<Figure size 432x288 with 1 Axes>"
            ]
          },
          "metadata": {
            "tags": [],
            "needs_background": "light"
          }
        }
      ]
    },
    {
      "cell_type": "code",
      "metadata": {
        "colab": {
          "base_uri": "https://localhost:8080/"
        },
        "id": "2ls_-vQXAgYt",
        "outputId": "7a521c9f-30ef-40df-c7fe-00f16f80acac"
      },
      "source": [
        "print(\"正解：予測\")\n",
        "predicted_y = model.predict(np.array([x_test[0]]))[0][0]\n",
        "print(\"{}:{}\".format(y_test[0],predicted_y))\n",
        "predicted_y = model.predict(np.array([x_test[2]]))[0][0]\n",
        "print(\"{}:{}\".format(y_test[2],predicted_y))"
      ],
      "execution_count": 8,
      "outputs": [
        {
          "output_type": "stream",
          "text": [
            "正解：予測\n",
            "7:0.02251027710735798\n",
            "1:0.057166099548339844\n"
          ],
          "name": "stdout"
        }
      ]
    },
    {
      "cell_type": "code",
      "metadata": {
        "colab": {
          "base_uri": "https://localhost:8080/"
        },
        "id": "OKQ7rLDw_M_b",
        "outputId": "f799b84c-d962-44ed-b463-ab429099c773"
      },
      "source": [
        "# 学習\n",
        "history = model.fit(x_train, y_train,\n",
        "                    batch_size=32, epochs=100,\n",
        "                    verbose=1, validation_split=0.2)"
      ],
      "execution_count": 9,
      "outputs": [
        {
          "output_type": "stream",
          "text": [
            "Epoch 1/100\n",
            "1500/1500 [==============================] - 7s 4ms/step - loss: 1.6423 - val_loss: 1.2996\n",
            "Epoch 2/100\n",
            "1500/1500 [==============================] - 6s 4ms/step - loss: 0.7105 - val_loss: 0.5468\n",
            "Epoch 3/100\n",
            "1500/1500 [==============================] - 6s 4ms/step - loss: 0.4924 - val_loss: 0.4959\n",
            "Epoch 4/100\n",
            "1500/1500 [==============================] - 6s 4ms/step - loss: 0.3803 - val_loss: 0.4978\n",
            "Epoch 5/100\n",
            "1500/1500 [==============================] - 6s 4ms/step - loss: 0.3083 - val_loss: 0.5170\n",
            "Epoch 6/100\n",
            "1500/1500 [==============================] - 6s 4ms/step - loss: 0.2539 - val_loss: 0.4706\n",
            "Epoch 7/100\n",
            "1500/1500 [==============================] - 6s 4ms/step - loss: 0.2178 - val_loss: 0.3940\n",
            "Epoch 8/100\n",
            "1500/1500 [==============================] - 6s 4ms/step - loss: 0.1857 - val_loss: 0.3742\n",
            "Epoch 9/100\n",
            "1500/1500 [==============================] - 6s 4ms/step - loss: 0.1638 - val_loss: 0.4046\n",
            "Epoch 10/100\n",
            "1500/1500 [==============================] - 6s 4ms/step - loss: 0.1498 - val_loss: 0.4295\n",
            "Epoch 11/100\n",
            "1500/1500 [==============================] - 6s 4ms/step - loss: 0.1362 - val_loss: 0.3884\n",
            "Epoch 12/100\n",
            "1500/1500 [==============================] - 6s 4ms/step - loss: 0.1271 - val_loss: 0.3872\n",
            "Epoch 13/100\n",
            "1500/1500 [==============================] - 6s 4ms/step - loss: 0.1133 - val_loss: 0.3901\n",
            "Epoch 14/100\n",
            "1500/1500 [==============================] - 6s 4ms/step - loss: 0.1102 - val_loss: 0.3675\n",
            "Epoch 15/100\n",
            "1500/1500 [==============================] - 6s 4ms/step - loss: 0.1016 - val_loss: 0.3871\n",
            "Epoch 16/100\n",
            "1500/1500 [==============================] - 6s 4ms/step - loss: 0.0975 - val_loss: 0.3689\n",
            "Epoch 17/100\n",
            "1500/1500 [==============================] - 6s 4ms/step - loss: 0.0952 - val_loss: 0.3727\n",
            "Epoch 18/100\n",
            "1500/1500 [==============================] - 6s 4ms/step - loss: 0.0995 - val_loss: 0.3640\n",
            "Epoch 19/100\n",
            "1500/1500 [==============================] - 6s 4ms/step - loss: 0.0884 - val_loss: 0.3937\n",
            "Epoch 20/100\n",
            "1500/1500 [==============================] - 6s 4ms/step - loss: 0.0889 - val_loss: 0.3584\n",
            "Epoch 21/100\n",
            "1500/1500 [==============================] - 6s 4ms/step - loss: 0.0832 - val_loss: 0.3989\n",
            "Epoch 22/100\n",
            "1500/1500 [==============================] - 6s 4ms/step - loss: 0.0809 - val_loss: 0.3785\n",
            "Epoch 23/100\n",
            "1500/1500 [==============================] - 6s 4ms/step - loss: 0.0793 - val_loss: 0.3664\n",
            "Epoch 24/100\n",
            "1500/1500 [==============================] - 6s 4ms/step - loss: 0.0784 - val_loss: 0.3778\n",
            "Epoch 25/100\n",
            "1500/1500 [==============================] - 6s 4ms/step - loss: 0.0766 - val_loss: 0.4229\n",
            "Epoch 26/100\n",
            "1500/1500 [==============================] - 6s 4ms/step - loss: 0.0696 - val_loss: 0.4125\n",
            "Epoch 27/100\n",
            "1500/1500 [==============================] - 6s 4ms/step - loss: 0.0726 - val_loss: 0.3842\n",
            "Epoch 28/100\n",
            "1500/1500 [==============================] - 6s 4ms/step - loss: 0.0705 - val_loss: 0.3744\n",
            "Epoch 29/100\n",
            "1500/1500 [==============================] - 6s 4ms/step - loss: 0.0739 - val_loss: 0.3737\n",
            "Epoch 30/100\n",
            "1500/1500 [==============================] - 6s 4ms/step - loss: 0.0685 - val_loss: 0.3723\n",
            "Epoch 31/100\n",
            "1500/1500 [==============================] - 6s 4ms/step - loss: 0.0661 - val_loss: 0.3792\n",
            "Epoch 32/100\n",
            "1500/1500 [==============================] - 6s 4ms/step - loss: 0.0658 - val_loss: 0.3825\n",
            "Epoch 33/100\n",
            "1500/1500 [==============================] - 6s 4ms/step - loss: 0.0693 - val_loss: 0.4027\n",
            "Epoch 34/100\n",
            "1500/1500 [==============================] - 6s 4ms/step - loss: 0.0701 - val_loss: 0.3606\n",
            "Epoch 35/100\n",
            "1500/1500 [==============================] - 6s 4ms/step - loss: 0.0624 - val_loss: 0.3869\n",
            "Epoch 36/100\n",
            "1500/1500 [==============================] - 6s 4ms/step - loss: 0.0618 - val_loss: 0.4005\n",
            "Epoch 37/100\n",
            "1500/1500 [==============================] - 6s 4ms/step - loss: 0.0600 - val_loss: 0.3893\n",
            "Epoch 38/100\n",
            "1500/1500 [==============================] - 6s 4ms/step - loss: 0.0592 - val_loss: 0.4136\n",
            "Epoch 39/100\n",
            "1500/1500 [==============================] - 6s 4ms/step - loss: 0.0617 - val_loss: 0.3789\n",
            "Epoch 40/100\n",
            "1500/1500 [==============================] - 6s 4ms/step - loss: 0.0594 - val_loss: 0.4033\n",
            "Epoch 41/100\n",
            "1500/1500 [==============================] - 6s 4ms/step - loss: 0.0548 - val_loss: 0.4119\n",
            "Epoch 42/100\n",
            "1500/1500 [==============================] - 6s 4ms/step - loss: 0.0576 - val_loss: 0.4108\n",
            "Epoch 43/100\n",
            "1500/1500 [==============================] - 6s 4ms/step - loss: 0.0566 - val_loss: 0.3921\n",
            "Epoch 44/100\n",
            "1500/1500 [==============================] - 6s 4ms/step - loss: 0.0552 - val_loss: 0.4159\n",
            "Epoch 45/100\n",
            "1500/1500 [==============================] - 6s 4ms/step - loss: 0.0538 - val_loss: 0.4124\n",
            "Epoch 46/100\n",
            "1500/1500 [==============================] - 6s 4ms/step - loss: 0.0544 - val_loss: 0.4444\n",
            "Epoch 47/100\n",
            "1500/1500 [==============================] - 6s 4ms/step - loss: 0.0542 - val_loss: 0.4220\n",
            "Epoch 48/100\n",
            "1500/1500 [==============================] - 6s 4ms/step - loss: 0.0567 - val_loss: 0.4288\n",
            "Epoch 49/100\n",
            "1500/1500 [==============================] - 6s 4ms/step - loss: 0.0543 - val_loss: 0.4055\n",
            "Epoch 50/100\n",
            "1500/1500 [==============================] - 6s 4ms/step - loss: 0.0549 - val_loss: 0.4026\n",
            "Epoch 51/100\n",
            "1500/1500 [==============================] - 6s 4ms/step - loss: 0.0612 - val_loss: 0.4052\n",
            "Epoch 52/100\n",
            "1500/1500 [==============================] - 6s 4ms/step - loss: 0.0582 - val_loss: 0.3960\n",
            "Epoch 53/100\n",
            "1500/1500 [==============================] - 6s 4ms/step - loss: 0.0552 - val_loss: 0.3922\n",
            "Epoch 54/100\n",
            "1500/1500 [==============================] - 6s 4ms/step - loss: 0.0546 - val_loss: 0.4131\n",
            "Epoch 55/100\n",
            "1500/1500 [==============================] - 6s 4ms/step - loss: 0.0612 - val_loss: 0.4028\n",
            "Epoch 56/100\n",
            "1500/1500 [==============================] - 6s 4ms/step - loss: 0.0558 - val_loss: 0.4155\n",
            "Epoch 57/100\n",
            "1500/1500 [==============================] - 6s 4ms/step - loss: 0.0605 - val_loss: 0.4288\n",
            "Epoch 58/100\n",
            "1500/1500 [==============================] - 6s 4ms/step - loss: 0.0557 - val_loss: 0.4065\n",
            "Epoch 59/100\n",
            "1500/1500 [==============================] - 6s 4ms/step - loss: 0.0570 - val_loss: 0.4207\n",
            "Epoch 60/100\n",
            "1500/1500 [==============================] - 6s 4ms/step - loss: 0.0550 - val_loss: 0.4335\n",
            "Epoch 61/100\n",
            "1500/1500 [==============================] - 6s 4ms/step - loss: 0.0590 - val_loss: 0.4171\n",
            "Epoch 62/100\n",
            "1500/1500 [==============================] - 6s 4ms/step - loss: 0.0616 - val_loss: 0.4246\n",
            "Epoch 63/100\n",
            "1500/1500 [==============================] - 6s 4ms/step - loss: 0.0560 - val_loss: 0.4589\n",
            "Epoch 64/100\n",
            "1500/1500 [==============================] - 6s 4ms/step - loss: 0.0540 - val_loss: 0.4386\n",
            "Epoch 65/100\n",
            "1500/1500 [==============================] - 6s 4ms/step - loss: 0.0583 - val_loss: 0.4505\n",
            "Epoch 66/100\n",
            "1500/1500 [==============================] - 6s 4ms/step - loss: 0.0553 - val_loss: 0.4214\n",
            "Epoch 67/100\n",
            "1500/1500 [==============================] - 6s 4ms/step - loss: 0.0585 - val_loss: 0.4086\n",
            "Epoch 68/100\n",
            "1500/1500 [==============================] - 6s 4ms/step - loss: 0.0643 - val_loss: 0.4264\n",
            "Epoch 69/100\n",
            "1500/1500 [==============================] - 6s 4ms/step - loss: 0.0605 - val_loss: 0.4216\n",
            "Epoch 70/100\n",
            "1500/1500 [==============================] - 6s 4ms/step - loss: 0.0606 - val_loss: 0.4631\n",
            "Epoch 71/100\n",
            "1500/1500 [==============================] - 6s 4ms/step - loss: 0.0640 - val_loss: 0.4420\n",
            "Epoch 72/100\n",
            "1500/1500 [==============================] - 6s 4ms/step - loss: 0.0626 - val_loss: 0.4252\n",
            "Epoch 73/100\n",
            "1500/1500 [==============================] - 6s 4ms/step - loss: 0.0636 - val_loss: 0.4576\n",
            "Epoch 74/100\n",
            "1500/1500 [==============================] - 6s 4ms/step - loss: 0.0627 - val_loss: 0.4494\n",
            "Epoch 75/100\n",
            "1500/1500 [==============================] - 6s 4ms/step - loss: 0.0657 - val_loss: 0.4379\n",
            "Epoch 76/100\n",
            "1500/1500 [==============================] - 6s 4ms/step - loss: 0.0642 - val_loss: 0.4657\n",
            "Epoch 77/100\n",
            "1500/1500 [==============================] - 6s 4ms/step - loss: 0.0644 - val_loss: 0.4678\n",
            "Epoch 78/100\n",
            "1500/1500 [==============================] - 6s 4ms/step - loss: 0.0674 - val_loss: 0.4545\n",
            "Epoch 79/100\n",
            "1500/1500 [==============================] - 6s 4ms/step - loss: 0.0646 - val_loss: 0.5004\n",
            "Epoch 80/100\n",
            "1500/1500 [==============================] - 6s 4ms/step - loss: 0.0667 - val_loss: 0.4777\n",
            "Epoch 81/100\n",
            "1500/1500 [==============================] - 6s 4ms/step - loss: 0.0610 - val_loss: 0.4563\n",
            "Epoch 82/100\n",
            "1500/1500 [==============================] - 6s 4ms/step - loss: 0.0702 - val_loss: 0.4815\n",
            "Epoch 83/100\n",
            "1500/1500 [==============================] - 6s 4ms/step - loss: 0.0630 - val_loss: 0.4775\n",
            "Epoch 84/100\n",
            "1500/1500 [==============================] - 6s 4ms/step - loss: 0.0668 - val_loss: 0.4709\n",
            "Epoch 85/100\n",
            "1500/1500 [==============================] - 6s 4ms/step - loss: 0.0717 - val_loss: 0.4357\n",
            "Epoch 86/100\n",
            "1500/1500 [==============================] - 6s 4ms/step - loss: 0.0727 - val_loss: 0.4643\n",
            "Epoch 87/100\n",
            "1500/1500 [==============================] - 6s 4ms/step - loss: 0.0740 - val_loss: 0.5090\n",
            "Epoch 88/100\n",
            "1500/1500 [==============================] - 6s 4ms/step - loss: 0.0785 - val_loss: 0.4468\n",
            "Epoch 89/100\n",
            "1500/1500 [==============================] - 6s 4ms/step - loss: 0.0782 - val_loss: 0.5035\n",
            "Epoch 90/100\n",
            "1500/1500 [==============================] - 6s 4ms/step - loss: 0.0804 - val_loss: 0.4521\n",
            "Epoch 91/100\n",
            "1500/1500 [==============================] - 6s 4ms/step - loss: 0.0811 - val_loss: 0.4694\n",
            "Epoch 92/100\n",
            "1500/1500 [==============================] - 6s 4ms/step - loss: 0.0823 - val_loss: 0.4660\n",
            "Epoch 93/100\n",
            "1500/1500 [==============================] - 6s 4ms/step - loss: 0.0807 - val_loss: 0.5025\n",
            "Epoch 94/100\n",
            "1500/1500 [==============================] - 6s 4ms/step - loss: 0.0861 - val_loss: 0.4805\n",
            "Epoch 95/100\n",
            "1500/1500 [==============================] - 6s 4ms/step - loss: 0.0968 - val_loss: 0.4905\n",
            "Epoch 96/100\n",
            "1500/1500 [==============================] - 6s 4ms/step - loss: 0.0971 - val_loss: 0.5016\n",
            "Epoch 97/100\n",
            "1500/1500 [==============================] - 6s 4ms/step - loss: 0.0925 - val_loss: 0.5238\n",
            "Epoch 98/100\n",
            "1500/1500 [==============================] - 6s 4ms/step - loss: 0.0946 - val_loss: 0.5214\n",
            "Epoch 99/100\n",
            "1500/1500 [==============================] - 6s 4ms/step - loss: 0.0978 - val_loss: 0.5038\n",
            "Epoch 100/100\n",
            "1500/1500 [==============================] - 6s 4ms/step - loss: 0.0893 - val_loss: 0.4923\n"
          ],
          "name": "stdout"
        }
      ]
    },
    {
      "cell_type": "code",
      "metadata": {
        "colab": {
          "base_uri": "https://localhost:8080/"
        },
        "id": "mBEm-vVB-9zZ",
        "outputId": "fed5565f-1c10-42bf-c815-78345fb4c563"
      },
      "source": [
        "model.evaluate(x_test,y_test)"
      ],
      "execution_count": 10,
      "outputs": [
        {
          "output_type": "stream",
          "text": [
            "313/313 [==============================] - 0s 1ms/step - loss: 0.4983\n"
          ],
          "name": "stdout"
        },
        {
          "output_type": "execute_result",
          "data": {
            "text/plain": [
              "0.49825921654701233"
            ]
          },
          "metadata": {
            "tags": []
          },
          "execution_count": 10
        }
      ]
    },
    {
      "cell_type": "code",
      "metadata": {
        "colab": {
          "base_uri": "https://localhost:8080/",
          "height": 297
        },
        "id": "ukis8xePsv5P",
        "outputId": "f2f5869f-f093-4c95-d785-cd8f11cbaac1"
      },
      "source": [
        "x = np.arange(0, 10, 0.1)\n",
        "plt.plot(x,x, label=\"optimal\", color=\"red\")\n",
        "\n",
        "y_preds = []\n",
        "for x, y in zip(x_test[0:100], y_test[0:100]):\n",
        "    predicted_y = model.predict(np.array([x]))[0][0]\n",
        "    y_preds.append(predicted_y)\n",
        "plt.scatter(y_test[0:100], y_preds, label=\"(pred_y,y)\")\n",
        "plt.xlabel(\"y\")\n",
        "plt.ylabel(\"pred_y\")\n",
        "plt.legend()"
      ],
      "execution_count": 11,
      "outputs": [
        {
          "output_type": "execute_result",
          "data": {
            "text/plain": [
              "<matplotlib.legend.Legend at 0x7f6fbb458978>"
            ]
          },
          "metadata": {
            "tags": []
          },
          "execution_count": 11
        },
        {
          "output_type": "display_data",
          "data": {
            "image/png": "[encoded data removed]",
            "text/plain": [
              "<Figure size 432x288 with 1 Axes>"
            ]
          },
          "metadata": {
            "tags": [],
            "needs_background": "light"
          }
        }
      ]
    },
    {
      "cell_type": "code",
      "metadata": {
        "colab": {
          "base_uri": "https://localhost:8080/"
        },
        "id": "l333l3e4-WBM",
        "outputId": "d79e4d29-5088-4b11-d5cf-96e0e6f94fdc"
      },
      "source": [
        "print(\"正解：予測\")\n",
        "predicted_y = model.predict(np.array([x_test[0]]))[0][0]\n",
        "print(\"{}:{}\".format(y_test[0],predicted_y))\n",
        "predicted_y = model.predict(np.array([x_test[2]]))[0][0]\n",
        "print(\"{}:{}\".format(y_test[2],predicted_y))"
      ],
      "execution_count": 12,
      "outputs": [
        {
          "output_type": "stream",
          "text": [
            "正解：予測\n",
            "7:6.999960899353027\n",
            "1:0.9701278209686279\n"
          ],
          "name": "stdout"
        }
      ]
    }
  ]
}