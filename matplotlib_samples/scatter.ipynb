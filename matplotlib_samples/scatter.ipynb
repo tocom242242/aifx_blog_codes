{
  "nbformat": 4,
  "nbformat_minor": 0,
  "metadata": {
    "colab": {
      "name": "scatter.ipynb",
      "provenance": [],
      "authorship_tag": "ABX9TyMZNp62woxeSgGdWaFU+XoD",
      "include_colab_link": true
    },
    "kernelspec": {
      "name": "python3",
      "display_name": "Python 3"
    }
  },
  "cells": [
    {
      "cell_type": "markdown",
      "metadata": {
        "id": "view-in-github",
        "colab_type": "text"
      },
      "source": [
        "<a href=\"https://colab.research.google.com/github/tocom242242/aifx_blog_codes/blob/master/matplotlib_samples/scatter.ipynb\" target=\"_parent\"><img src=\"https://colab.research.google.com/assets/colab-badge.svg\" alt=\"Open In Colab\"/></a>"
      ]
    },
    {
      "cell_type": "code",
      "metadata": {
        "id": "TMG2_k-_B1op"
      },
      "source": [
        "import matplotlib.pyplot as plt\n",
        "import numpy as np"
      ],
      "execution_count": 1,
      "outputs": []
    },
    {
      "cell_type": "code",
      "metadata": {
        "colab": {
          "base_uri": "https://localhost:8080/"
        },
        "id": "lRAa5EjEB7di",
        "outputId": "c36ed80d-2256-42a7-b519-d6bcf7d1951c"
      },
      "source": [
        "x = np.random.random(20)\n",
        "y = np.random.random(20)\n",
        "print(f\"x:{x}\")\n",
        "print(f\"y:{y}\")"
      ],
      "execution_count": 9,
      "outputs": [
        {
          "output_type": "stream",
          "text": [
            "x:[0.78176986 0.82890655 0.17201511 0.40632955 0.94072404 0.57510522\n",
            " 0.96498484 0.08871191 0.93486596 0.90505944 0.95108657 0.57259264\n",
            " 0.08828654 0.08116361 0.40660873 0.5487279  0.35501224 0.82654318\n",
            " 0.855207   0.14521377]\n",
            "y:[0.56767039 0.25243398 0.16335288 0.58262353 0.93961818 0.62856973\n",
            " 0.63194413 0.11973044 0.14676694 0.93176879 0.61021364 0.7510278\n",
            " 0.0903804  0.10020713 0.38177483 0.01433844 0.10344041 0.4241432\n",
            " 0.63520594 0.29786765]\n"
          ],
          "name": "stdout"
        }
      ]
    },
    {
      "cell_type": "code",
      "metadata": {
        "colab": {
          "base_uri": "https://localhost:8080/",
          "height": 283
        },
        "id": "dK5ui4ngBkGQ",
        "outputId": "245a3a18-4886-4a37-bf06-4a9ce1b627c9"
      },
      "source": [
        "plt.scatter(x,y)"
      ],
      "execution_count": 10,
      "outputs": [
        {
          "output_type": "execute_result",
          "data": {
            "text/plain": [
              "<matplotlib.collections.PathCollection at 0x7fdc94f31550>"
            ]
          },
          "metadata": {
            "tags": []
          },
          "execution_count": 10
        },
        {
          "output_type": "display_data",
          "data": {
            "image/png": "[encoded data removed]",
            "text/plain": [
              "<Figure size 432x288 with 1 Axes>"
            ]
          },
          "metadata": {
            "tags": [],
            "needs_background": "light"
          }
        }
      ]
    }
  ]
}