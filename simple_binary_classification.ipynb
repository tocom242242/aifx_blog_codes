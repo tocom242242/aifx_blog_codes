{
  "nbformat": 4,
  "nbformat_minor": 0,
  "metadata": {
    "colab": {
      "name": "simple_binary_classification.ipynb",
      "provenance": [],
      "authorship_tag": "ABX9TyOgXpZc9hl0Wtz/F9iZDk3S",
      "include_colab_link": true
    },
    "kernelspec": {
      "name": "python3",
      "display_name": "Python 3"
    }
  },
  "cells": [
    {
      "cell_type": "markdown",
      "metadata": {
        "id": "view-in-github",
        "colab_type": "text"
      },
      "source": [
        "<a href=\"https://colab.research.google.com/github/tocom242242/aifx_blog_codes/blob/master/simple_binary_classification.ipynb\" target=\"_parent\"><img src=\"https://colab.research.google.com/assets/colab-badge.svg\" alt=\"Open In Colab\"/></a>"
      ]
    },
    {
      "cell_type": "markdown",
      "metadata": {
        "id": "AFLclgF6RUPm"
      },
      "source": [
        "[【超入門、ニューラルネットワーク】Kerasで２値分類　〜超簡単な例〜](https://www.tcom242242.net/entry/ai-2/deeplearning/%e3%80%90%e8%b6%85%e5%85%a5%e9%96%80%e3%80%81%e3%83%8b%e3%83%a5%e3%83%bc%e3%83%a9%e3%83%ab%e3%83%8d%e3%83%83%e3%83%88%e3%83%af%e3%83%bc%e3%82%af%e3%80%91keras%e3%81%a7%ef%bc%92%e5%80%a4%e5%88%86/)"
      ]
    },
    {
      "cell_type": "code",
      "metadata": {
        "id": "D0IhD6ooQ7bI"
      },
      "source": [
        "import numpy as np\n",
        "import matplotlib.pyplot as plt\n",
        "from keras.models import Sequential\n",
        "from keras.layers import Dense, Activation\n",
        "from sklearn.model_selection import train_test_split\n",
        "from keras.utils import np_utils"
      ],
      "execution_count": 1,
      "outputs": []
    },
    {
      "cell_type": "code",
      "metadata": {
        "id": "_OMh1rllRqjU"
      },
      "source": [
        "NB_DATAS = 500\n",
        "\n",
        "# データの作成\n",
        "X = np.random.rand(NB_DATAS, 2) # 入力データ\n",
        "Y = np.zeros(NB_DATAS)          # ラベルデータ"
      ],
      "execution_count": 2,
      "outputs": []
    },
    {
      "cell_type": "code",
      "metadata": {
        "id": "ix0-1gmRRtj8"
      },
      "source": [
        "def f(x):\n",
        "    return x**2\n",
        "\n",
        "# ラベルの付与\n",
        "for idx, x in enumerate(X):\n",
        "    if x[1] > f(x[0]):\n",
        "        Y[idx] = 1.0"
      ],
      "execution_count": 3,
      "outputs": []
    },
    {
      "cell_type": "code",
      "metadata": {
        "colab": {
          "base_uri": "https://localhost:8080/",
          "height": 281
        },
        "id": "nBbPBdKuRvUu",
        "outputId": "6af9fc8e-5b62-490b-852e-c2e7c127274c"
      },
      "source": [
        "X1 = np.array([[x1, x2] for x1, x2 in zip(X[:, 0], X[:, 1]) if x2 > f(x1)])\n",
        "X2 = np.array([[x1, x2] for x1, x2 in zip(X[:, 0], X[:, 1]) if x2 <= f(x1)])\n",
        "plt.scatter(X1[:, 0], X1[:, 1], c=\"r\", label=\"$x_2>f(x_1)$\")\n",
        "plt.scatter(X2[:, 0], X2[:, 1], c=\"b\", label=\"$x_2 \\leq f(x_1)$\")\n",
        "\n",
        "x2 = np.arange(0, 1, 0.01)\n",
        "y2 = x2**2\n",
        "plt.plot(x2, y2, c=\"g\", linewidth=5.0, linestyle=\"--\", label=\"$f(x)=x^2$\")\n",
        "plt.legend(loc=\"upper left\", framealpha=1.0)\n",
        "plt.xlabel(\"$x_1$\")\n",
        "plt.ylabel(\"$x_2$\")\n",
        "plt.show()"
      ],
      "execution_count": 4,
      "outputs": [
        {
          "output_type": "display_data",
          "data": {
            "image/png": "[encoded data removed]",
            "text/plain": [
              "<Figure size 432x288 with 1 Axes>"
            ]
          },
          "metadata": {
            "tags": [],
            "needs_background": "light"
          }
        }
      ]
    },
    {
      "cell_type": "code",
      "metadata": {
        "id": "UY6fCXd1RyPG"
      },
      "source": [
        "# one-hotエンコード.例) 1 => [0, 1]\n",
        "Y_one_hot = np_utils.to_categorical(Y)"
      ],
      "execution_count": 5,
      "outputs": []
    },
    {
      "cell_type": "code",
      "metadata": {
        "colab": {
          "base_uri": "https://localhost:8080/"
        },
        "id": "NU-gc8UwRztf",
        "outputId": "929fd4f0-6266-479d-c336-80c670cba0a2"
      },
      "source": [
        "print(f\"y:{Y[0]},y_one_hot:{Y_one_hot[0]}\")"
      ],
      "execution_count": 8,
      "outputs": [
        {
          "output_type": "stream",
          "text": [
            "y:0.0,y_one_hot:[1. 0.]\n"
          ],
          "name": "stdout"
        }
      ]
    },
    {
      "cell_type": "code",
      "metadata": {
        "id": "6MDd_YZsSInl"
      },
      "source": [
        "# 教師データとテストデータに分割\n",
        "x_train, x_test, y_train, y_test= train_test_split(X, Y_one_hot, train_size=0.8)"
      ],
      "execution_count": 9,
      "outputs": []
    },
    {
      "cell_type": "code",
      "metadata": {
        "id": "qHGquuqPSK2F"
      },
      "source": [
        "# モデルの作成\n",
        "model = Sequential()\n",
        "model.add(Dense(3, input_dim=2))    # 入力層2ノード, 隠れ層に3ノード, 全結合\n",
        "model.add(Activation(\"sigmoid\"))    # 活性化関数はsigmoid\n",
        "model.add(Dense(2)) # 出力層2ノード,全結合\n",
        "model.add(Activation(\"sigmoid\"))"
      ],
      "execution_count": 10,
      "outputs": []
    },
    {
      "cell_type": "code",
      "metadata": {
        "id": "Z79jJpNDSM4G"
      },
      "source": [
        "model.compile(loss=\"binary_crossentropy\",   # 誤差関数\n",
        "              optimizer=\"adam\",     # 最適化手法\n",
        "              metrics=['accuracy'])"
      ],
      "execution_count": 11,
      "outputs": []
    },
    {
      "cell_type": "code",
      "metadata": {
        "colab": {
          "base_uri": "https://localhost:8080/"
        },
        "id": "w5rBPh7YSQRH",
        "outputId": "af314dec-6a0d-4605-a6a4-1ab078f1139f"
      },
      "source": [
        "# 訓練\n",
        "history = model.fit(x_train, y_train, epochs=200, batch_size=32) # 学習\n"
      ],
      "execution_count": 16,
      "outputs": [
        {
          "output_type": "stream",
          "text": [
            "Epoch 1/200\n",
            "13/13 [==============================] - 0s 1ms/step - loss: 0.4252 - accuracy: 0.9025\n",
            "Epoch 2/200\n",
            "13/13 [==============================] - 0s 1ms/step - loss: 0.4236 - accuracy: 0.9050\n",
            "Epoch 3/200\n",
            "13/13 [==============================] - 0s 1ms/step - loss: 0.4220 - accuracy: 0.9050\n",
            "Epoch 4/200\n",
            "13/13 [==============================] - 0s 1ms/step - loss: 0.4204 - accuracy: 0.9100\n",
            "Epoch 5/200\n",
            "13/13 [==============================] - 0s 1ms/step - loss: 0.4186 - accuracy: 0.9100\n",
            "Epoch 6/200\n",
            "13/13 [==============================] - 0s 1ms/step - loss: 0.4169 - accuracy: 0.9100\n",
            "Epoch 7/200\n",
            "13/13 [==============================] - 0s 1ms/step - loss: 0.4153 - accuracy: 0.9100\n",
            "Epoch 8/200\n",
            "13/13 [==============================] - 0s 1ms/step - loss: 0.4137 - accuracy: 0.9125\n",
            "Epoch 9/200\n",
            "13/13 [==============================] - 0s 1ms/step - loss: 0.4121 - accuracy: 0.9125\n",
            "Epoch 10/200\n",
            "13/13 [==============================] - 0s 1ms/step - loss: 0.4104 - accuracy: 0.9150\n",
            "Epoch 11/200\n",
            "13/13 [==============================] - 0s 1ms/step - loss: 0.4089 - accuracy: 0.9150\n",
            "Epoch 12/200\n",
            "13/13 [==============================] - 0s 1ms/step - loss: 0.4073 - accuracy: 0.9175\n",
            "Epoch 13/200\n",
            "13/13 [==============================] - 0s 1ms/step - loss: 0.4056 - accuracy: 0.9200\n",
            "Epoch 14/200\n",
            "13/13 [==============================] - 0s 1ms/step - loss: 0.4040 - accuracy: 0.9200\n",
            "Epoch 15/200\n",
            "13/13 [==============================] - 0s 2ms/step - loss: 0.4025 - accuracy: 0.9200\n",
            "Epoch 16/200\n",
            "13/13 [==============================] - 0s 1ms/step - loss: 0.4009 - accuracy: 0.9225\n",
            "Epoch 17/200\n",
            "13/13 [==============================] - 0s 1ms/step - loss: 0.3993 - accuracy: 0.9225\n",
            "Epoch 18/200\n",
            "13/13 [==============================] - 0s 1ms/step - loss: 0.3978 - accuracy: 0.9225\n",
            "Epoch 19/200\n",
            "13/13 [==============================] - 0s 1ms/step - loss: 0.3962 - accuracy: 0.9250\n",
            "Epoch 20/200\n",
            "13/13 [==============================] - 0s 1ms/step - loss: 0.3946 - accuracy: 0.9250\n",
            "Epoch 21/200\n",
            "13/13 [==============================] - 0s 1ms/step - loss: 0.3931 - accuracy: 0.9300\n",
            "Epoch 22/200\n",
            "13/13 [==============================] - 0s 1ms/step - loss: 0.3916 - accuracy: 0.9300\n",
            "Epoch 23/200\n",
            "13/13 [==============================] - 0s 1ms/step - loss: 0.3900 - accuracy: 0.9300\n",
            "Epoch 24/200\n",
            "13/13 [==============================] - 0s 2ms/step - loss: 0.3885 - accuracy: 0.9300\n",
            "Epoch 25/200\n",
            "13/13 [==============================] - 0s 1ms/step - loss: 0.3870 - accuracy: 0.9300\n",
            "Epoch 26/200\n",
            "13/13 [==============================] - 0s 1ms/step - loss: 0.3855 - accuracy: 0.9325\n",
            "Epoch 27/200\n",
            "13/13 [==============================] - 0s 2ms/step - loss: 0.3840 - accuracy: 0.9350\n",
            "Epoch 28/200\n",
            "13/13 [==============================] - 0s 1ms/step - loss: 0.3825 - accuracy: 0.9350\n",
            "Epoch 29/200\n",
            "13/13 [==============================] - 0s 2ms/step - loss: 0.3811 - accuracy: 0.9325\n",
            "Epoch 30/200\n",
            "13/13 [==============================] - 0s 2ms/step - loss: 0.3795 - accuracy: 0.9350\n",
            "Epoch 31/200\n",
            "13/13 [==============================] - 0s 2ms/step - loss: 0.3780 - accuracy: 0.9350\n",
            "Epoch 32/200\n",
            "13/13 [==============================] - 0s 1ms/step - loss: 0.3766 - accuracy: 0.9350\n",
            "Epoch 33/200\n",
            "13/13 [==============================] - 0s 1ms/step - loss: 0.3751 - accuracy: 0.9350\n",
            "Epoch 34/200\n",
            "13/13 [==============================] - 0s 1ms/step - loss: 0.3737 - accuracy: 0.9350\n",
            "Epoch 35/200\n",
            "13/13 [==============================] - 0s 1ms/step - loss: 0.3722 - accuracy: 0.9350\n",
            "Epoch 36/200\n",
            "13/13 [==============================] - 0s 2ms/step - loss: 0.3708 - accuracy: 0.9400\n",
            "Epoch 37/200\n",
            "13/13 [==============================] - 0s 1ms/step - loss: 0.3693 - accuracy: 0.9425\n",
            "Epoch 38/200\n",
            "13/13 [==============================] - 0s 2ms/step - loss: 0.3679 - accuracy: 0.9425\n",
            "Epoch 39/200\n",
            "13/13 [==============================] - 0s 1ms/step - loss: 0.3666 - accuracy: 0.9375\n",
            "Epoch 40/200\n",
            "13/13 [==============================] - 0s 1ms/step - loss: 0.3650 - accuracy: 0.9400\n",
            "Epoch 41/200\n",
            "13/13 [==============================] - 0s 1ms/step - loss: 0.3636 - accuracy: 0.9475\n",
            "Epoch 42/200\n",
            "13/13 [==============================] - 0s 1ms/step - loss: 0.3623 - accuracy: 0.9525\n",
            "Epoch 43/200\n",
            "13/13 [==============================] - 0s 1ms/step - loss: 0.3608 - accuracy: 0.9525\n",
            "Epoch 44/200\n",
            "13/13 [==============================] - 0s 1ms/step - loss: 0.3595 - accuracy: 0.9525\n",
            "Epoch 45/200\n",
            "13/13 [==============================] - 0s 1ms/step - loss: 0.3581 - accuracy: 0.9500\n",
            "Epoch 46/200\n",
            "13/13 [==============================] - 0s 2ms/step - loss: 0.3567 - accuracy: 0.9525\n",
            "Epoch 47/200\n",
            "13/13 [==============================] - 0s 1ms/step - loss: 0.3553 - accuracy: 0.9525\n",
            "Epoch 48/200\n",
            "13/13 [==============================] - 0s 2ms/step - loss: 0.3540 - accuracy: 0.9525\n",
            "Epoch 49/200\n",
            "13/13 [==============================] - 0s 2ms/step - loss: 0.3526 - accuracy: 0.9525\n",
            "Epoch 50/200\n",
            "13/13 [==============================] - 0s 2ms/step - loss: 0.3513 - accuracy: 0.9525\n",
            "Epoch 51/200\n",
            "13/13 [==============================] - 0s 2ms/step - loss: 0.3499 - accuracy: 0.9525\n",
            "Epoch 52/200\n",
            "13/13 [==============================] - 0s 2ms/step - loss: 0.3486 - accuracy: 0.9525\n",
            "Epoch 53/200\n",
            "13/13 [==============================] - 0s 2ms/step - loss: 0.3472 - accuracy: 0.9525\n",
            "Epoch 54/200\n",
            "13/13 [==============================] - 0s 1ms/step - loss: 0.3459 - accuracy: 0.9525\n",
            "Epoch 55/200\n",
            "13/13 [==============================] - 0s 1ms/step - loss: 0.3446 - accuracy: 0.9525\n",
            "Epoch 56/200\n",
            "13/13 [==============================] - 0s 1ms/step - loss: 0.3433 - accuracy: 0.9525\n",
            "Epoch 57/200\n",
            "13/13 [==============================] - 0s 1ms/step - loss: 0.3420 - accuracy: 0.9525\n",
            "Epoch 58/200\n",
            "13/13 [==============================] - 0s 1ms/step - loss: 0.3407 - accuracy: 0.9525\n",
            "Epoch 59/200\n",
            "13/13 [==============================] - 0s 1ms/step - loss: 0.3394 - accuracy: 0.9525\n",
            "Epoch 60/200\n",
            "13/13 [==============================] - 0s 1ms/step - loss: 0.3381 - accuracy: 0.9525\n",
            "Epoch 61/200\n",
            "13/13 [==============================] - 0s 1ms/step - loss: 0.3369 - accuracy: 0.9525\n",
            "Epoch 62/200\n",
            "13/13 [==============================] - 0s 1ms/step - loss: 0.3355 - accuracy: 0.9525\n",
            "Epoch 63/200\n",
            "13/13 [==============================] - 0s 1ms/step - loss: 0.3342 - accuracy: 0.9525\n",
            "Epoch 64/200\n",
            "13/13 [==============================] - 0s 1ms/step - loss: 0.3330 - accuracy: 0.9525\n",
            "Epoch 65/200\n",
            "13/13 [==============================] - 0s 1ms/step - loss: 0.3317 - accuracy: 0.9525\n",
            "Epoch 66/200\n",
            "13/13 [==============================] - 0s 1ms/step - loss: 0.3305 - accuracy: 0.9525\n",
            "Epoch 67/200\n",
            "13/13 [==============================] - 0s 1ms/step - loss: 0.3292 - accuracy: 0.9550\n",
            "Epoch 68/200\n",
            "13/13 [==============================] - 0s 1ms/step - loss: 0.3280 - accuracy: 0.9550\n",
            "Epoch 69/200\n",
            "13/13 [==============================] - 0s 2ms/step - loss: 0.3268 - accuracy: 0.9525\n",
            "Epoch 70/200\n",
            "13/13 [==============================] - 0s 1ms/step - loss: 0.3256 - accuracy: 0.9550\n",
            "Epoch 71/200\n",
            "13/13 [==============================] - 0s 2ms/step - loss: 0.3244 - accuracy: 0.9575\n",
            "Epoch 72/200\n",
            "13/13 [==============================] - 0s 2ms/step - loss: 0.3231 - accuracy: 0.9600\n",
            "Epoch 73/200\n",
            "13/13 [==============================] - 0s 1ms/step - loss: 0.3220 - accuracy: 0.9650\n",
            "Epoch 74/200\n",
            "13/13 [==============================] - 0s 1ms/step - loss: 0.3208 - accuracy: 0.9650\n",
            "Epoch 75/200\n",
            "13/13 [==============================] - 0s 1ms/step - loss: 0.3196 - accuracy: 0.9650\n",
            "Epoch 76/200\n",
            "13/13 [==============================] - 0s 2ms/step - loss: 0.3184 - accuracy: 0.9650\n",
            "Epoch 77/200\n",
            "13/13 [==============================] - 0s 1ms/step - loss: 0.3172 - accuracy: 0.9650\n",
            "Epoch 78/200\n",
            "13/13 [==============================] - 0s 1ms/step - loss: 0.3161 - accuracy: 0.9650\n",
            "Epoch 79/200\n",
            "13/13 [==============================] - 0s 1ms/step - loss: 0.3149 - accuracy: 0.9650\n",
            "Epoch 80/200\n",
            "13/13 [==============================] - 0s 1ms/step - loss: 0.3137 - accuracy: 0.9650\n",
            "Epoch 81/200\n",
            "13/13 [==============================] - 0s 2ms/step - loss: 0.3126 - accuracy: 0.9650\n",
            "Epoch 82/200\n",
            "13/13 [==============================] - 0s 2ms/step - loss: 0.3115 - accuracy: 0.9650\n",
            "Epoch 83/200\n",
            "13/13 [==============================] - 0s 2ms/step - loss: 0.3103 - accuracy: 0.9650\n",
            "Epoch 84/200\n",
            "13/13 [==============================] - 0s 2ms/step - loss: 0.3092 - accuracy: 0.9650\n",
            "Epoch 85/200\n",
            "13/13 [==============================] - 0s 2ms/step - loss: 0.3081 - accuracy: 0.9650\n",
            "Epoch 86/200\n",
            "13/13 [==============================] - 0s 2ms/step - loss: 0.3070 - accuracy: 0.9650\n",
            "Epoch 87/200\n",
            "13/13 [==============================] - 0s 1ms/step - loss: 0.3060 - accuracy: 0.9650\n",
            "Epoch 88/200\n",
            "13/13 [==============================] - 0s 1ms/step - loss: 0.3048 - accuracy: 0.9650\n",
            "Epoch 89/200\n",
            "13/13 [==============================] - 0s 2ms/step - loss: 0.3037 - accuracy: 0.9650\n",
            "Epoch 90/200\n",
            "13/13 [==============================] - 0s 1ms/step - loss: 0.3026 - accuracy: 0.9650\n",
            "Epoch 91/200\n",
            "13/13 [==============================] - 0s 2ms/step - loss: 0.3015 - accuracy: 0.9650\n",
            "Epoch 92/200\n",
            "13/13 [==============================] - 0s 1ms/step - loss: 0.3004 - accuracy: 0.9625\n",
            "Epoch 93/200\n",
            "13/13 [==============================] - 0s 1ms/step - loss: 0.2994 - accuracy: 0.9625\n",
            "Epoch 94/200\n",
            "13/13 [==============================] - 0s 1ms/step - loss: 0.2983 - accuracy: 0.9650\n",
            "Epoch 95/200\n",
            "13/13 [==============================] - 0s 1ms/step - loss: 0.2973 - accuracy: 0.9650\n",
            "Epoch 96/200\n",
            "13/13 [==============================] - 0s 1ms/step - loss: 0.2963 - accuracy: 0.9650\n",
            "Epoch 97/200\n",
            "13/13 [==============================] - 0s 2ms/step - loss: 0.2951 - accuracy: 0.9650\n",
            "Epoch 98/200\n",
            "13/13 [==============================] - 0s 2ms/step - loss: 0.2941 - accuracy: 0.9625\n",
            "Epoch 99/200\n",
            "13/13 [==============================] - 0s 2ms/step - loss: 0.2931 - accuracy: 0.9625\n",
            "Epoch 100/200\n",
            "13/13 [==============================] - 0s 2ms/step - loss: 0.2921 - accuracy: 0.9625\n",
            "Epoch 101/200\n",
            "13/13 [==============================] - 0s 1ms/step - loss: 0.2910 - accuracy: 0.9625\n",
            "Epoch 102/200\n",
            "13/13 [==============================] - 0s 1ms/step - loss: 0.2900 - accuracy: 0.9625\n",
            "Epoch 103/200\n",
            "13/13 [==============================] - 0s 1ms/step - loss: 0.2890 - accuracy: 0.9625\n",
            "Epoch 104/200\n",
            "13/13 [==============================] - 0s 1ms/step - loss: 0.2880 - accuracy: 0.9625\n",
            "Epoch 105/200\n",
            "13/13 [==============================] - 0s 1ms/step - loss: 0.2870 - accuracy: 0.9625\n",
            "Epoch 106/200\n",
            "13/13 [==============================] - 0s 2ms/step - loss: 0.2861 - accuracy: 0.9625\n",
            "Epoch 107/200\n",
            "13/13 [==============================] - 0s 1ms/step - loss: 0.2850 - accuracy: 0.9625\n",
            "Epoch 108/200\n",
            "13/13 [==============================] - 0s 2ms/step - loss: 0.2840 - accuracy: 0.9625\n",
            "Epoch 109/200\n",
            "13/13 [==============================] - 0s 1ms/step - loss: 0.2831 - accuracy: 0.9625\n",
            "Epoch 110/200\n",
            "13/13 [==============================] - 0s 1ms/step - loss: 0.2821 - accuracy: 0.9625\n",
            "Epoch 111/200\n",
            "13/13 [==============================] - 0s 2ms/step - loss: 0.2811 - accuracy: 0.9625\n",
            "Epoch 112/200\n",
            "13/13 [==============================] - 0s 2ms/step - loss: 0.2802 - accuracy: 0.9625\n",
            "Epoch 113/200\n",
            "13/13 [==============================] - 0s 1ms/step - loss: 0.2793 - accuracy: 0.9625\n",
            "Epoch 114/200\n",
            "13/13 [==============================] - 0s 1ms/step - loss: 0.2782 - accuracy: 0.9625\n",
            "Epoch 115/200\n",
            "13/13 [==============================] - 0s 2ms/step - loss: 0.2773 - accuracy: 0.9625\n",
            "Epoch 116/200\n",
            "13/13 [==============================] - 0s 2ms/step - loss: 0.2764 - accuracy: 0.9625\n",
            "Epoch 117/200\n",
            "13/13 [==============================] - 0s 2ms/step - loss: 0.2754 - accuracy: 0.9625\n",
            "Epoch 118/200\n",
            "13/13 [==============================] - 0s 2ms/step - loss: 0.2745 - accuracy: 0.9625\n",
            "Epoch 119/200\n",
            "13/13 [==============================] - 0s 2ms/step - loss: 0.2736 - accuracy: 0.9625\n",
            "Epoch 120/200\n",
            "13/13 [==============================] - 0s 2ms/step - loss: 0.2727 - accuracy: 0.9625\n",
            "Epoch 121/200\n",
            "13/13 [==============================] - 0s 2ms/step - loss: 0.2717 - accuracy: 0.9650\n",
            "Epoch 122/200\n",
            "13/13 [==============================] - 0s 2ms/step - loss: 0.2709 - accuracy: 0.9625\n",
            "Epoch 123/200\n",
            "13/13 [==============================] - 0s 1ms/step - loss: 0.2699 - accuracy: 0.9625\n",
            "Epoch 124/200\n",
            "13/13 [==============================] - 0s 1ms/step - loss: 0.2690 - accuracy: 0.9675\n",
            "Epoch 125/200\n",
            "13/13 [==============================] - 0s 2ms/step - loss: 0.2681 - accuracy: 0.9650\n",
            "Epoch 126/200\n",
            "13/13 [==============================] - 0s 2ms/step - loss: 0.2672 - accuracy: 0.9675\n",
            "Epoch 127/200\n",
            "13/13 [==============================] - 0s 1ms/step - loss: 0.2663 - accuracy: 0.9675\n",
            "Epoch 128/200\n",
            "13/13 [==============================] - 0s 2ms/step - loss: 0.2655 - accuracy: 0.9675\n",
            "Epoch 129/200\n",
            "13/13 [==============================] - 0s 2ms/step - loss: 0.2646 - accuracy: 0.9675\n",
            "Epoch 130/200\n",
            "13/13 [==============================] - 0s 2ms/step - loss: 0.2637 - accuracy: 0.9650\n",
            "Epoch 131/200\n",
            "13/13 [==============================] - 0s 2ms/step - loss: 0.2628 - accuracy: 0.9650\n",
            "Epoch 132/200\n",
            "13/13 [==============================] - 0s 2ms/step - loss: 0.2619 - accuracy: 0.9650\n",
            "Epoch 133/200\n",
            "13/13 [==============================] - 0s 1ms/step - loss: 0.2611 - accuracy: 0.9650\n",
            "Epoch 134/200\n",
            "13/13 [==============================] - 0s 2ms/step - loss: 0.2603 - accuracy: 0.9650\n",
            "Epoch 135/200\n",
            "13/13 [==============================] - 0s 1ms/step - loss: 0.2594 - accuracy: 0.9650\n",
            "Epoch 136/200\n",
            "13/13 [==============================] - 0s 1ms/step - loss: 0.2586 - accuracy: 0.9650\n",
            "Epoch 137/200\n",
            "13/13 [==============================] - 0s 2ms/step - loss: 0.2577 - accuracy: 0.9650\n",
            "Epoch 138/200\n",
            "13/13 [==============================] - 0s 2ms/step - loss: 0.2569 - accuracy: 0.9650\n",
            "Epoch 139/200\n",
            "13/13 [==============================] - 0s 1ms/step - loss: 0.2561 - accuracy: 0.9675\n",
            "Epoch 140/200\n",
            "13/13 [==============================] - 0s 1ms/step - loss: 0.2553 - accuracy: 0.9675\n",
            "Epoch 141/200\n",
            "13/13 [==============================] - 0s 1ms/step - loss: 0.2545 - accuracy: 0.9675\n",
            "Epoch 142/200\n",
            "13/13 [==============================] - 0s 1ms/step - loss: 0.2537 - accuracy: 0.9650\n",
            "Epoch 143/200\n",
            "13/13 [==============================] - 0s 2ms/step - loss: 0.2528 - accuracy: 0.9675\n",
            "Epoch 144/200\n",
            "13/13 [==============================] - 0s 1ms/step - loss: 0.2520 - accuracy: 0.9675\n",
            "Epoch 145/200\n",
            "13/13 [==============================] - 0s 2ms/step - loss: 0.2513 - accuracy: 0.9650\n",
            "Epoch 146/200\n",
            "13/13 [==============================] - 0s 2ms/step - loss: 0.2505 - accuracy: 0.9650\n",
            "Epoch 147/200\n",
            "13/13 [==============================] - 0s 1ms/step - loss: 0.2496 - accuracy: 0.9650\n",
            "Epoch 148/200\n",
            "13/13 [==============================] - 0s 2ms/step - loss: 0.2489 - accuracy: 0.9650\n",
            "Epoch 149/200\n",
            "13/13 [==============================] - 0s 2ms/step - loss: 0.2482 - accuracy: 0.9650\n",
            "Epoch 150/200\n",
            "13/13 [==============================] - 0s 2ms/step - loss: 0.2473 - accuracy: 0.9650\n",
            "Epoch 151/200\n",
            "13/13 [==============================] - 0s 1ms/step - loss: 0.2466 - accuracy: 0.9675\n",
            "Epoch 152/200\n",
            "13/13 [==============================] - 0s 1ms/step - loss: 0.2459 - accuracy: 0.9675\n",
            "Epoch 153/200\n",
            "13/13 [==============================] - 0s 1ms/step - loss: 0.2451 - accuracy: 0.9675\n",
            "Epoch 154/200\n",
            "13/13 [==============================] - 0s 1ms/step - loss: 0.2443 - accuracy: 0.9675\n",
            "Epoch 155/200\n",
            "13/13 [==============================] - 0s 1ms/step - loss: 0.2436 - accuracy: 0.9675\n",
            "Epoch 156/200\n",
            "13/13 [==============================] - 0s 2ms/step - loss: 0.2428 - accuracy: 0.9650\n",
            "Epoch 157/200\n",
            "13/13 [==============================] - 0s 2ms/step - loss: 0.2422 - accuracy: 0.9650\n",
            "Epoch 158/200\n",
            "13/13 [==============================] - 0s 2ms/step - loss: 0.2413 - accuracy: 0.9650\n",
            "Epoch 159/200\n",
            "13/13 [==============================] - 0s 2ms/step - loss: 0.2406 - accuracy: 0.9650\n",
            "Epoch 160/200\n",
            "13/13 [==============================] - 0s 2ms/step - loss: 0.2399 - accuracy: 0.9675\n",
            "Epoch 161/200\n",
            "13/13 [==============================] - 0s 2ms/step - loss: 0.2391 - accuracy: 0.9700\n",
            "Epoch 162/200\n",
            "13/13 [==============================] - 0s 2ms/step - loss: 0.2384 - accuracy: 0.9675\n",
            "Epoch 163/200\n",
            "13/13 [==============================] - 0s 1ms/step - loss: 0.2377 - accuracy: 0.9650\n",
            "Epoch 164/200\n",
            "13/13 [==============================] - 0s 2ms/step - loss: 0.2370 - accuracy: 0.9650\n",
            "Epoch 165/200\n",
            "13/13 [==============================] - 0s 2ms/step - loss: 0.2364 - accuracy: 0.9675\n",
            "Epoch 166/200\n",
            "13/13 [==============================] - 0s 2ms/step - loss: 0.2356 - accuracy: 0.9700\n",
            "Epoch 167/200\n",
            "13/13 [==============================] - 0s 2ms/step - loss: 0.2349 - accuracy: 0.9700\n",
            "Epoch 168/200\n",
            "13/13 [==============================] - 0s 2ms/step - loss: 0.2343 - accuracy: 0.9700\n",
            "Epoch 169/200\n",
            "13/13 [==============================] - 0s 1ms/step - loss: 0.2335 - accuracy: 0.9700\n",
            "Epoch 170/200\n",
            "13/13 [==============================] - 0s 2ms/step - loss: 0.2328 - accuracy: 0.9700\n",
            "Epoch 171/200\n",
            "13/13 [==============================] - 0s 2ms/step - loss: 0.2322 - accuracy: 0.9700\n",
            "Epoch 172/200\n",
            "13/13 [==============================] - 0s 1ms/step - loss: 0.2314 - accuracy: 0.9700\n",
            "Epoch 173/200\n",
            "13/13 [==============================] - 0s 2ms/step - loss: 0.2307 - accuracy: 0.9700\n",
            "Epoch 174/200\n",
            "13/13 [==============================] - 0s 3ms/step - loss: 0.2301 - accuracy: 0.9700\n",
            "Epoch 175/200\n",
            "13/13 [==============================] - 0s 2ms/step - loss: 0.2294 - accuracy: 0.9700\n",
            "Epoch 176/200\n",
            "13/13 [==============================] - 0s 2ms/step - loss: 0.2288 - accuracy: 0.9700\n",
            "Epoch 177/200\n",
            "13/13 [==============================] - 0s 2ms/step - loss: 0.2281 - accuracy: 0.9700\n",
            "Epoch 178/200\n",
            "13/13 [==============================] - 0s 2ms/step - loss: 0.2274 - accuracy: 0.9700\n",
            "Epoch 179/200\n",
            "13/13 [==============================] - 0s 2ms/step - loss: 0.2267 - accuracy: 0.9700\n",
            "Epoch 180/200\n",
            "13/13 [==============================] - 0s 1ms/step - loss: 0.2261 - accuracy: 0.9700\n",
            "Epoch 181/200\n",
            "13/13 [==============================] - 0s 2ms/step - loss: 0.2254 - accuracy: 0.9700\n",
            "Epoch 182/200\n",
            "13/13 [==============================] - 0s 2ms/step - loss: 0.2247 - accuracy: 0.9700\n",
            "Epoch 183/200\n",
            "13/13 [==============================] - 0s 2ms/step - loss: 0.2242 - accuracy: 0.9700\n",
            "Epoch 184/200\n",
            "13/13 [==============================] - 0s 2ms/step - loss: 0.2235 - accuracy: 0.9700\n",
            "Epoch 185/200\n",
            "13/13 [==============================] - 0s 1ms/step - loss: 0.2228 - accuracy: 0.9725\n",
            "Epoch 186/200\n",
            "13/13 [==============================] - 0s 2ms/step - loss: 0.2223 - accuracy: 0.9725\n",
            "Epoch 187/200\n",
            "13/13 [==============================] - 0s 1ms/step - loss: 0.2216 - accuracy: 0.9725\n",
            "Epoch 188/200\n",
            "13/13 [==============================] - 0s 1ms/step - loss: 0.2210 - accuracy: 0.9725\n",
            "Epoch 189/200\n",
            "13/13 [==============================] - 0s 2ms/step - loss: 0.2204 - accuracy: 0.9725\n",
            "Epoch 190/200\n",
            "13/13 [==============================] - 0s 1ms/step - loss: 0.2198 - accuracy: 0.9725\n",
            "Epoch 191/200\n",
            "13/13 [==============================] - 0s 1ms/step - loss: 0.2192 - accuracy: 0.9725\n",
            "Epoch 192/200\n",
            "13/13 [==============================] - 0s 2ms/step - loss: 0.2185 - accuracy: 0.9725\n",
            "Epoch 193/200\n",
            "13/13 [==============================] - 0s 2ms/step - loss: 0.2179 - accuracy: 0.9725\n",
            "Epoch 194/200\n",
            "13/13 [==============================] - 0s 2ms/step - loss: 0.2173 - accuracy: 0.9725\n",
            "Epoch 195/200\n",
            "13/13 [==============================] - 0s 2ms/step - loss: 0.2167 - accuracy: 0.9725\n",
            "Epoch 196/200\n",
            "13/13 [==============================] - 0s 2ms/step - loss: 0.2161 - accuracy: 0.9725\n",
            "Epoch 197/200\n",
            "13/13 [==============================] - 0s 2ms/step - loss: 0.2155 - accuracy: 0.9725\n",
            "Epoch 198/200\n",
            "13/13 [==============================] - 0s 2ms/step - loss: 0.2149 - accuracy: 0.9725\n",
            "Epoch 199/200\n",
            "13/13 [==============================] - 0s 1ms/step - loss: 0.2143 - accuracy: 0.9725\n",
            "Epoch 200/200\n",
            "13/13 [==============================] - 0s 2ms/step - loss: 0.2138 - accuracy: 0.9725\n"
          ],
          "name": "stdout"
        }
      ]
    },
    {
      "cell_type": "code",
      "metadata": {
        "colab": {
          "base_uri": "https://localhost:8080/"
        },
        "id": "qbVXf7XjSj9Q",
        "outputId": "e4688e59-9f35-4e30-c455-42875a9ade26"
      },
      "source": [
        ""
      ],
      "execution_count": 20,
      "outputs": [
        {
          "output_type": "execute_result",
          "data": {
            "text/plain": [
              "dict_keys(['loss', 'accuracy'])"
            ]
          },
          "metadata": {
            "tags": []
          },
          "execution_count": 20
        }
      ]
    },
    {
      "cell_type": "code",
      "metadata": {
        "colab": {
          "base_uri": "https://localhost:8080/",
          "height": 299
        },
        "id": "Ea2CU_hBSSEW",
        "outputId": "56f5aaf7-cfc4-4a3a-9f83-e238fb9a7f88"
      },
      "source": [
        "plt.plot(history.epoch, history.history[\"accuracy\"], label=\"acc\")\n",
        "plt.plot(history.epoch, history.history[\"loss\"], label=\"loss\")\n",
        "plt.xlabel(\"epoch\")\n",
        "plt.legend()"
      ],
      "execution_count": 21,
      "outputs": [
        {
          "output_type": "execute_result",
          "data": {
            "text/plain": [
              "<matplotlib.legend.Legend at 0x7ff953223898>"
            ]
          },
          "metadata": {
            "tags": []
          },
          "execution_count": 21
        },
        {
          "output_type": "display_data",
          "data": {
            "image/png": "[encoded data removed]",
            "text/plain": [
              "<Figure size 432x288 with 1 Axes>"
            ]
          },
          "metadata": {
            "tags": [],
            "needs_background": "light"
          }
        }
      ]
    },
    {
      "cell_type": "code",
      "metadata": {
        "colab": {
          "base_uri": "https://localhost:8080/"
        },
        "id": "2klBc-X3Swb5",
        "outputId": "7643aca1-cf94-401c-c11f-e2f34de61289"
      },
      "source": [
        "# 評価\n",
        "score = model.evaluate(x_test, y_test, verbose=1)\n",
        "\n",
        "print(\"Test score\", score[0])\n",
        "print(\"Test accuracy\", score[1])"
      ],
      "execution_count": 22,
      "outputs": [
        {
          "output_type": "stream",
          "text": [
            "4/4 [==============================] - 0s 2ms/step - loss: 0.1973 - accuracy: 0.9700\n",
            "Test score 0.1972905993461609\n",
            "Test accuracy 0.9700000286102295\n"
          ],
          "name": "stdout"
        }
      ]
    }
  ]
}