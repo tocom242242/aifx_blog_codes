{
  "nbformat": 4,
  "nbformat_minor": 0,
  "metadata": {
    "colab": {
      "name": "exp_dis.ipynb",
      "provenance": [],
      "authorship_tag": "ABX9TyMyrzlEe+d84i8IwCR1ad0G",
      "include_colab_link": true
    },
    "kernelspec": {
      "name": "python3",
      "display_name": "Python 3"
    }
  },
  "cells": [
    {
      "cell_type": "markdown",
      "metadata": {
        "id": "view-in-github",
        "colab_type": "text"
      },
      "source": [
        "<a href=\"https://colab.research.google.com/github/tocom242242/aifx_blog_codes/blob/master/stat/exp_dis.ipynb\" target=\"_parent\"><img src=\"https://colab.research.google.com/assets/colab-badge.svg\" alt=\"Open In Colab\"/></a>"
      ]
    },
    {
      "cell_type": "code",
      "metadata": {
        "id": "H5N9cpJACATG"
      },
      "source": [
        "from scipy.stats import expon\n",
        "import matplotlib.pyplot as plt\n",
        "import numpy as np\n",
        "%matplotlib inline\n"
      ],
      "execution_count": null,
      "outputs": []
    },
    {
      "cell_type": "code",
      "metadata": {
        "colab": {
          "base_uri": "https://localhost:8080/",
          "height": 283
        },
        "id": "QQw-SK0LCK6c",
        "outputId": "8f43a0b6-f954-45b3-e130-738323fe1a48"
      },
      "source": [
        "fig, ax = plt.subplots(1, 1)\n",
        "x = np.linspace(expon.ppf(0.01), expon.ppf(0.99), 100)\n",
        "ax.plot(x, expon.pdf(x), 'r', lw=5, alpha=0.6, label='expon pdf')\n",
        "    "
      ],
      "execution_count": 14,
      "outputs": [
        {
          "output_type": "execute_result",
          "data": {
            "text/plain": [
              "[<matplotlib.lines.Line2D at 0x7ff8db18b588>]"
            ]
          },
          "metadata": {
            "tags": []
          },
          "execution_count": 14
        },
        {
          "output_type": "display_data",
          "data": {
            "image/png": "[encoded data removed]",
            "text/plain": [
              "<Figure size 432x288 with 1 Axes>"
            ]
          },
          "metadata": {
            "tags": [],
            "needs_background": "light"
          }
        }
      ]
    }
  ]
}