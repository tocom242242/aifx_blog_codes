{
  "nbformat": 4,
  "nbformat_minor": 0,
  "metadata": {
    "colab": {
      "name": "entorpy.ipynb",
      "provenance": [],
      "authorship_tag": "ABX9TyO/jJ4PSppKBEPgQv+t/EiO",
      "include_colab_link": true
    },
    "kernelspec": {
      "name": "python3",
      "display_name": "Python 3"
    }
  },
  "cells": [
    {
      "cell_type": "markdown",
      "metadata": {
        "id": "view-in-github",
        "colab_type": "text"
      },
      "source": [
        "<a href=\"https://colab.research.google.com/github/tocom242242/aifx_blog_codes/blob/master/stat/entorpy.ipynb\" target=\"_parent\"><img src=\"https://colab.research.google.com/assets/colab-badge.svg\" alt=\"Open In Colab\"/></a>"
      ]
    },
    {
      "cell_type": "code",
      "metadata": {
        "id": "xWq6ua6NM7BB"
      },
      "source": [
        "import numpy as np\n",
        "\n",
        "def compute_entropy(p_list):\n",
        "\n",
        "    entropy = -sum(p_list * np.log(p_list))\n",
        "\n",
        "    return entropy"
      ],
      "execution_count": 7,
      "outputs": []
    },
    {
      "cell_type": "code",
      "metadata": {
        "id": "c2h3ybDURNk5",
        "colab": {
          "base_uri": "https://localhost:8080/"
        },
        "outputId": "b505b9b5-09cc-4420-d24f-0a3338185055"
      },
      "source": [
        "p_list = [0.1, 0.9]\n",
        "entropy = compute_entropy(p_list)\n",
        "print(f\"{p_list}  entory:{entropy}\")\n",
        "\n",
        "p_list = [0.5, 0.5]\n",
        "entropy = compute_entropy(p_list)\n",
        "print(f\"{p_list}  entory:{entropy}\")"
      ],
      "execution_count": 8,
      "outputs": [
        {
          "output_type": "stream",
          "text": [
            "[0.1, 0.9]  entory:0.3250829733914482\n",
            "[0.5, 0.5]  entory:0.6931471805599453\n"
          ],
          "name": "stdout"
        }
      ]
    },
    {
      "cell_type": "markdown",
      "metadata": {
        "id": "0ZDyYoJprzn-"
      },
      "source": [
        ""
      ]
    },
    {
      "cell_type": "code",
      "metadata": {
        "id": "c9IGUoH9RRfZ",
        "colab": {
          "base_uri": "https://localhost:8080/"
        },
        "outputId": "a2b14ca3-bad1-4100-a4c5-e7b86e60b90b"
      },
      "source": [
        "from scipy.stats import entropy\n",
        "p_list = [0.1, 0.9]\n",
        "print(f\"{p_list}  entory:{entropy(p_list)}\")\n",
        "\n",
        "p_list = [0.5, 0.5]\n",
        "print(f\"{p_list}  entory:{entropy(p_list)}\")"
      ],
      "execution_count": 9,
      "outputs": [
        {
          "output_type": "stream",
          "text": [
            "[0.1, 0.9]  entory:0.3250829733914482\n",
            "[0.5, 0.5]  entory:0.6931471805599453\n"
          ],
          "name": "stdout"
        }
      ]
    },
    {
      "cell_type": "code",
      "metadata": {
        "id": "6kMsUs8nQC7z"
      },
      "source": [
        "import matplotlib.pyplot as plt\n",
        "plt.style.use('ggplot')"
      ],
      "execution_count": 10,
      "outputs": []
    },
    {
      "cell_type": "code",
      "metadata": {
        "id": "rlthws41QHV0"
      },
      "source": [
        "entropy_list, p_list = [], []\n",
        "\n",
        "p = 0.1\n",
        "for _ in range(9):\n",
        "    entropy = compute_entropy([p,(1-p)])\n",
        "    entropy_list.append(entropy)\n",
        "    p_list.append(p)\n",
        "    p += 0.1"
      ],
      "execution_count": 11,
      "outputs": []
    },
    {
      "cell_type": "code",
      "metadata": {
        "id": "-RxeugWjQsvN",
        "colab": {
          "base_uri": "https://localhost:8080/",
          "height": 302
        },
        "outputId": "826e5db2-82fe-49ac-f49b-12a6d34eee89"
      },
      "source": [
        "plt.plot(p_list, entropy_list)\n",
        "plt.ylabel(\"entropy\")\n",
        "plt.xlabel(\"$p(x_0)$\")"
      ],
      "execution_count": 12,
      "outputs": [
        {
          "output_type": "execute_result",
          "data": {
            "text/plain": [
              "Text(0.5, 0, '$p(x_0)$')"
            ]
          },
          "metadata": {
            "tags": []
          },
          "execution_count": 12
        },
        {
          "output_type": "display_data",
          "data": {
            "image/png": "[encoded data removed]",
            "text/plain": [
              "<Figure size 432x288 with 1 Axes>"
            ]
          },
          "metadata": {
            "tags": []
          }
        }
      ]
    },
    {
      "cell_type": "code",
      "metadata": {
        "id": "qvKWhFJ-S_aC"
      },
      "source": [
        ""
      ],
      "execution_count": 12,
      "outputs": []
    }
  ]
}